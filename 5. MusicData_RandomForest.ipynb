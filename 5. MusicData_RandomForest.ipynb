{
  "nbformat": 4,
  "nbformat_minor": 0,
  "metadata": {
    "colab": {
      "provenance": [],
      "collapsed_sections": []
    },
    "kernelspec": {
      "name": "python3",
      "display_name": "Python 3"
    },
    "language_info": {
      "name": "python"
    }
  },
  "cells": [
    {
      "cell_type": "code",
      "source": [
        "# Importing libraries\n",
        "import os\n",
        "import pandas as pd\n",
        "import numpy as np\n",
        "from sklearn.ensemble import RandomForestRegressor\n",
        "from sklearn.datasets import make_classification\n",
        "from sklearn.model_selection import train_test_split"
      ],
      "metadata": {
        "id": "MZMMmtrT6pY-"
      },
      "execution_count": null,
      "outputs": []
    },
    {
      "cell_type": "markdown",
      "source": [
        "# **Reading the data:**"
      ],
      "metadata": {
        "id": "0laocaow6Ybz"
      }
    },
    {
      "cell_type": "code",
      "source": [
        "pwd = os.getcwd()\n",
        "data_path = os.path.join(pwd,'/content/data.csv')\n",
        "dataset = pd.read_csv(data_path)\n",
        "dataset.head()"
      ],
      "metadata": {
        "colab": {
          "base_uri": "https://localhost:8080/",
          "height": 300
        },
        "id": "l5tsiupV6c_k",
        "outputId": "926cde54-e428-43d8-d311-3eab46184f33"
      },
      "execution_count": null,
      "outputs": [
        {
          "output_type": "execute_result",
          "data": {
            "text/plain": [
              "   Label  chroma_cqt_min_9  chroma_cens_std_9  chroma_cqt_std_9  \\\n",
              "0      1          0.071046           0.069082          0.200063   \n",
              "1      1          0.041849           0.167682          0.322926   \n",
              "2      1          0.030403           0.170538          0.278494   \n",
              "3      1          0.029544           0.086684          0.202977   \n",
              "4      1          0.156004           0.028628          0.181429   \n",
              "\n",
              "   chroma_cqt_min_8  chroma_cens_min_8  chroma_cqt_min_9.1  mfcc_kew_8  \\\n",
              "0          0.078024           0.061601            0.071046    0.141448   \n",
              "1          0.056464           0.149637            0.041849   -0.097643   \n",
              "2          0.018547           0.000000            0.030403    0.080492   \n",
              "3          0.029688           0.007347            0.029544   -0.123874   \n",
              "4          0.260926           0.227593            0.156004    0.102291   \n",
              "\n",
              "   chroma_cqt_min_10  chroma_cens_kurtosis_7  ...  spectral_contrast_median_4  \\\n",
              "0           0.057762               -0.450202  ...                   17.327571   \n",
              "1           0.024338               -0.516322  ...                   19.780989   \n",
              "2           0.085687               -0.785274  ...                   20.048794   \n",
              "3           0.041780               -0.993542  ...                   19.090520   \n",
              "4           0.077327               -0.606321  ...                   17.567289   \n",
              "\n",
              "   spectral_contrast_median_3  mfcc_min_13  chroma_cqt_std_7  mfcc_min_15  \\\n",
              "0                   18.517070   -13.279443          0.225851   -10.263238   \n",
              "1                   20.299753   -22.832613          0.217826   -39.581528   \n",
              "2                   21.316776   -27.645460          0.346090   -25.304401   \n",
              "3                   16.909599   -25.957323          0.236410   -20.954071   \n",
              "4                   18.506936   -11.842056          0.116258   -10.181994   \n",
              "\n",
              "   mfcc_mean_13  spectral_contrast_min_5  chroma_cqt_median_3  \\\n",
              "0      6.141400                11.316323             0.322361   \n",
              "1     11.593621                10.735463             0.354708   \n",
              "2      5.499897                12.308926             0.310618   \n",
              "3     -0.884686                11.244797             0.599287   \n",
              "4     12.037020                10.954439             0.529404   \n",
              "\n",
              "   chroma_cqt_kurtosis_1  chroma_stft_kew_5  \n",
              "0              -0.399856          -0.466818  \n",
              "1              -0.854414           1.536103  \n",
              "2              15.009076           1.578005  \n",
              "3              -0.760400           1.471296  \n",
              "4              -1.155454           0.649632  \n",
              "\n",
              "[5 rows x 61 columns]"
            ],
            "text/html": [
              "\n",
              "  <div id=\"df-6f13250f-47f9-4083-9794-14cf6748738c\">\n",
              "    <div class=\"colab-df-container\">\n",
              "      <div>\n",
              "<style scoped>\n",
              "    .dataframe tbody tr th:only-of-type {\n",
              "        vertical-align: middle;\n",
              "    }\n",
              "\n",
              "    .dataframe tbody tr th {\n",
              "        vertical-align: top;\n",
              "    }\n",
              "\n",
              "    .dataframe thead th {\n",
              "        text-align: right;\n",
              "    }\n",
              "</style>\n",
              "<table border=\"1\" class=\"dataframe\">\n",
              "  <thead>\n",
              "    <tr style=\"text-align: right;\">\n",
              "      <th></th>\n",
              "      <th>Label</th>\n",
              "      <th>chroma_cqt_min_9</th>\n",
              "      <th>chroma_cens_std_9</th>\n",
              "      <th>chroma_cqt_std_9</th>\n",
              "      <th>chroma_cqt_min_8</th>\n",
              "      <th>chroma_cens_min_8</th>\n",
              "      <th>chroma_cqt_min_9.1</th>\n",
              "      <th>mfcc_kew_8</th>\n",
              "      <th>chroma_cqt_min_10</th>\n",
              "      <th>chroma_cens_kurtosis_7</th>\n",
              "      <th>...</th>\n",
              "      <th>spectral_contrast_median_4</th>\n",
              "      <th>spectral_contrast_median_3</th>\n",
              "      <th>mfcc_min_13</th>\n",
              "      <th>chroma_cqt_std_7</th>\n",
              "      <th>mfcc_min_15</th>\n",
              "      <th>mfcc_mean_13</th>\n",
              "      <th>spectral_contrast_min_5</th>\n",
              "      <th>chroma_cqt_median_3</th>\n",
              "      <th>chroma_cqt_kurtosis_1</th>\n",
              "      <th>chroma_stft_kew_5</th>\n",
              "    </tr>\n",
              "  </thead>\n",
              "  <tbody>\n",
              "    <tr>\n",
              "      <th>0</th>\n",
              "      <td>1</td>\n",
              "      <td>0.071046</td>\n",
              "      <td>0.069082</td>\n",
              "      <td>0.200063</td>\n",
              "      <td>0.078024</td>\n",
              "      <td>0.061601</td>\n",
              "      <td>0.071046</td>\n",
              "      <td>0.141448</td>\n",
              "      <td>0.057762</td>\n",
              "      <td>-0.450202</td>\n",
              "      <td>...</td>\n",
              "      <td>17.327571</td>\n",
              "      <td>18.517070</td>\n",
              "      <td>-13.279443</td>\n",
              "      <td>0.225851</td>\n",
              "      <td>-10.263238</td>\n",
              "      <td>6.141400</td>\n",
              "      <td>11.316323</td>\n",
              "      <td>0.322361</td>\n",
              "      <td>-0.399856</td>\n",
              "      <td>-0.466818</td>\n",
              "    </tr>\n",
              "    <tr>\n",
              "      <th>1</th>\n",
              "      <td>1</td>\n",
              "      <td>0.041849</td>\n",
              "      <td>0.167682</td>\n",
              "      <td>0.322926</td>\n",
              "      <td>0.056464</td>\n",
              "      <td>0.149637</td>\n",
              "      <td>0.041849</td>\n",
              "      <td>-0.097643</td>\n",
              "      <td>0.024338</td>\n",
              "      <td>-0.516322</td>\n",
              "      <td>...</td>\n",
              "      <td>19.780989</td>\n",
              "      <td>20.299753</td>\n",
              "      <td>-22.832613</td>\n",
              "      <td>0.217826</td>\n",
              "      <td>-39.581528</td>\n",
              "      <td>11.593621</td>\n",
              "      <td>10.735463</td>\n",
              "      <td>0.354708</td>\n",
              "      <td>-0.854414</td>\n",
              "      <td>1.536103</td>\n",
              "    </tr>\n",
              "    <tr>\n",
              "      <th>2</th>\n",
              "      <td>1</td>\n",
              "      <td>0.030403</td>\n",
              "      <td>0.170538</td>\n",
              "      <td>0.278494</td>\n",
              "      <td>0.018547</td>\n",
              "      <td>0.000000</td>\n",
              "      <td>0.030403</td>\n",
              "      <td>0.080492</td>\n",
              "      <td>0.085687</td>\n",
              "      <td>-0.785274</td>\n",
              "      <td>...</td>\n",
              "      <td>20.048794</td>\n",
              "      <td>21.316776</td>\n",
              "      <td>-27.645460</td>\n",
              "      <td>0.346090</td>\n",
              "      <td>-25.304401</td>\n",
              "      <td>5.499897</td>\n",
              "      <td>12.308926</td>\n",
              "      <td>0.310618</td>\n",
              "      <td>15.009076</td>\n",
              "      <td>1.578005</td>\n",
              "    </tr>\n",
              "    <tr>\n",
              "      <th>3</th>\n",
              "      <td>1</td>\n",
              "      <td>0.029544</td>\n",
              "      <td>0.086684</td>\n",
              "      <td>0.202977</td>\n",
              "      <td>0.029688</td>\n",
              "      <td>0.007347</td>\n",
              "      <td>0.029544</td>\n",
              "      <td>-0.123874</td>\n",
              "      <td>0.041780</td>\n",
              "      <td>-0.993542</td>\n",
              "      <td>...</td>\n",
              "      <td>19.090520</td>\n",
              "      <td>16.909599</td>\n",
              "      <td>-25.957323</td>\n",
              "      <td>0.236410</td>\n",
              "      <td>-20.954071</td>\n",
              "      <td>-0.884686</td>\n",
              "      <td>11.244797</td>\n",
              "      <td>0.599287</td>\n",
              "      <td>-0.760400</td>\n",
              "      <td>1.471296</td>\n",
              "    </tr>\n",
              "    <tr>\n",
              "      <th>4</th>\n",
              "      <td>1</td>\n",
              "      <td>0.156004</td>\n",
              "      <td>0.028628</td>\n",
              "      <td>0.181429</td>\n",
              "      <td>0.260926</td>\n",
              "      <td>0.227593</td>\n",
              "      <td>0.156004</td>\n",
              "      <td>0.102291</td>\n",
              "      <td>0.077327</td>\n",
              "      <td>-0.606321</td>\n",
              "      <td>...</td>\n",
              "      <td>17.567289</td>\n",
              "      <td>18.506936</td>\n",
              "      <td>-11.842056</td>\n",
              "      <td>0.116258</td>\n",
              "      <td>-10.181994</td>\n",
              "      <td>12.037020</td>\n",
              "      <td>10.954439</td>\n",
              "      <td>0.529404</td>\n",
              "      <td>-1.155454</td>\n",
              "      <td>0.649632</td>\n",
              "    </tr>\n",
              "  </tbody>\n",
              "</table>\n",
              "<p>5 rows × 61 columns</p>\n",
              "</div>\n",
              "      <button class=\"colab-df-convert\" onclick=\"convertToInteractive('df-6f13250f-47f9-4083-9794-14cf6748738c')\"\n",
              "              title=\"Convert this dataframe to an interactive table.\"\n",
              "              style=\"display:none;\">\n",
              "        \n",
              "  <svg xmlns=\"http://www.w3.org/2000/svg\" height=\"24px\"viewBox=\"0 0 24 24\"\n",
              "       width=\"24px\">\n",
              "    <path d=\"M0 0h24v24H0V0z\" fill=\"none\"/>\n",
              "    <path d=\"M18.56 5.44l.94 2.06.94-2.06 2.06-.94-2.06-.94-.94-2.06-.94 2.06-2.06.94zm-11 1L8.5 8.5l.94-2.06 2.06-.94-2.06-.94L8.5 2.5l-.94 2.06-2.06.94zm10 10l.94 2.06.94-2.06 2.06-.94-2.06-.94-.94-2.06-.94 2.06-2.06.94z\"/><path d=\"M17.41 7.96l-1.37-1.37c-.4-.4-.92-.59-1.43-.59-.52 0-1.04.2-1.43.59L10.3 9.45l-7.72 7.72c-.78.78-.78 2.05 0 2.83L4 21.41c.39.39.9.59 1.41.59.51 0 1.02-.2 1.41-.59l7.78-7.78 2.81-2.81c.8-.78.8-2.07 0-2.86zM5.41 20L4 18.59l7.72-7.72 1.47 1.35L5.41 20z\"/>\n",
              "  </svg>\n",
              "      </button>\n",
              "      \n",
              "  <style>\n",
              "    .colab-df-container {\n",
              "      display:flex;\n",
              "      flex-wrap:wrap;\n",
              "      gap: 12px;\n",
              "    }\n",
              "\n",
              "    .colab-df-convert {\n",
              "      background-color: #E8F0FE;\n",
              "      border: none;\n",
              "      border-radius: 50%;\n",
              "      cursor: pointer;\n",
              "      display: none;\n",
              "      fill: #1967D2;\n",
              "      height: 32px;\n",
              "      padding: 0 0 0 0;\n",
              "      width: 32px;\n",
              "    }\n",
              "\n",
              "    .colab-df-convert:hover {\n",
              "      background-color: #E2EBFA;\n",
              "      box-shadow: 0px 1px 2px rgba(60, 64, 67, 0.3), 0px 1px 3px 1px rgba(60, 64, 67, 0.15);\n",
              "      fill: #174EA6;\n",
              "    }\n",
              "\n",
              "    [theme=dark] .colab-df-convert {\n",
              "      background-color: #3B4455;\n",
              "      fill: #D2E3FC;\n",
              "    }\n",
              "\n",
              "    [theme=dark] .colab-df-convert:hover {\n",
              "      background-color: #434B5C;\n",
              "      box-shadow: 0px 1px 3px 1px rgba(0, 0, 0, 0.15);\n",
              "      filter: drop-shadow(0px 1px 2px rgba(0, 0, 0, 0.3));\n",
              "      fill: #FFFFFF;\n",
              "    }\n",
              "  </style>\n",
              "\n",
              "      <script>\n",
              "        const buttonEl =\n",
              "          document.querySelector('#df-6f13250f-47f9-4083-9794-14cf6748738c button.colab-df-convert');\n",
              "        buttonEl.style.display =\n",
              "          google.colab.kernel.accessAllowed ? 'block' : 'none';\n",
              "\n",
              "        async function convertToInteractive(key) {\n",
              "          const element = document.querySelector('#df-6f13250f-47f9-4083-9794-14cf6748738c');\n",
              "          const dataTable =\n",
              "            await google.colab.kernel.invokeFunction('convertToInteractive',\n",
              "                                                     [key], {});\n",
              "          if (!dataTable) return;\n",
              "\n",
              "          const docLinkHtml = 'Like what you see? Visit the ' +\n",
              "            '<a target=\"_blank\" href=https://colab.research.google.com/notebooks/data_table.ipynb>data table notebook</a>'\n",
              "            + ' to learn more about interactive tables.';\n",
              "          element.innerHTML = '';\n",
              "          dataTable['output_type'] = 'display_data';\n",
              "          await google.colab.output.renderOutput(dataTable, element);\n",
              "          const docLink = document.createElement('div');\n",
              "          docLink.innerHTML = docLinkHtml;\n",
              "          element.appendChild(docLink);\n",
              "        }\n",
              "      </script>\n",
              "    </div>\n",
              "  </div>\n",
              "  "
            ]
          },
          "metadata": {},
          "execution_count": 7
        }
      ]
    },
    {
      "cell_type": "code",
      "source": [
        "dataset.shape"
      ],
      "metadata": {
        "colab": {
          "base_uri": "https://localhost:8080/"
        },
        "id": "y5y6zp3w6yMO",
        "outputId": "788a233e-1bbe-453a-e37c-c5a56310b7a1"
      },
      "execution_count": null,
      "outputs": [
        {
          "output_type": "execute_result",
          "data": {
            "text/plain": [
              "(792, 61)"
            ]
          },
          "metadata": {},
          "execution_count": 8
        }
      ]
    },
    {
      "cell_type": "markdown",
      "source": [
        "# **Building the model**"
      ],
      "metadata": {
        "id": "7nho5THe7t3z"
      }
    },
    {
      "cell_type": "code",
      "source": [
        "  X = dataset.drop(['Label'], axis=1)\n",
        "  Y = dataset['Label']"
      ],
      "metadata": {
        "id": "ABV8v--06_OB"
      },
      "execution_count": null,
      "outputs": []
    },
    {
      "cell_type": "markdown",
      "source": [
        "### **Split the dataset into training and validation:**\n",
        "Thus to be able to measure the accuracy of the model"
      ],
      "metadata": {
        "id": "a-VhA7OY8I51"
      }
    },
    {
      "cell_type": "code",
      "source": [
        "X_train, X_Validation, Y_train, Y_Validation= train_test_split(X, Y, test_size= 0.2)"
      ],
      "metadata": {
        "id": "OS-JrZbc8C84"
      },
      "execution_count": null,
      "outputs": []
    },
    {
      "cell_type": "markdown",
      "source": [
        "### **Applying Random Forest Model:**"
      ],
      "metadata": {
        "id": "NmjzQ7M68VpR"
      }
    },
    {
      "cell_type": "code",
      "source": [
        "RF_model = RandomForestRegressor(random_state=1)\n",
        "RF_model.fit(X_train, Y_train)\n",
        "\n",
        "RF_prediction = RF_model.predict(X_Validation)"
      ],
      "metadata": {
        "id": "fAeCG4rv8Uyd"
      },
      "execution_count": null,
      "outputs": []
    },
    {
      "cell_type": "code",
      "source": [
        "# Calculate the mean absolute error for the model\n",
        "from sklearn.metrics import mean_absolute_error\n",
        "\n",
        "RF_Validation_MSE = mean_absolute_error(RF_prediction, Y_Validation)\n",
        "print(f'Mean Square Error for Random Forest Model is: {RF_Validation_MSE}')"
      ],
      "metadata": {
        "colab": {
          "base_uri": "https://localhost:8080/"
        },
        "id": "ImKxBULq8Sw0",
        "outputId": "149a1dfc-28a5-4066-f95d-4354a8e8e556"
      },
      "execution_count": null,
      "outputs": [
        {
          "output_type": "stream",
          "name": "stdout",
          "text": [
            "Mean Square Error for Random Forest Model is: 0.4866037735849057\n"
          ]
        }
      ]
    },
    {
      "cell_type": "markdown",
      "source": [
        "## **So, the accuracy of the model is 51%**"
      ],
      "metadata": {
        "id": "CXgw0sr--hzO"
      }
    }
  ]
}