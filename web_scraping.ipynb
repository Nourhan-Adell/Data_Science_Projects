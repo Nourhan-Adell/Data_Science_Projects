{
  "nbformat": 4,
  "nbformat_minor": 0,
  "metadata": {
    "colab": {
      "provenance": [],
      "collapsed_sections": []
    },
    "kernelspec": {
      "name": "python3",
      "display_name": "Python 3"
    },
    "language_info": {
      "name": "python"
    },
    "accelerator": "GPU"
  },
  "cells": [
    {
      "cell_type": "markdown",
      "source": [
        "# **Web Scraping to extract data from Billboard website**"
      ],
      "metadata": {
        "id": "0lXVBgsgtKQR"
      }
    },
    {
      "cell_type": "markdown",
      "source": [
        "1. Installing the required third-party libraries:"
      ],
      "metadata": {
        "id": "ex7_1g1FtbKa"
      }
    },
    {
      "cell_type": "code",
      "execution_count": null,
      "metadata": {
        "colab": {
          "base_uri": "https://localhost:8080/"
        },
        "id": "XrzB7Rggq_83",
        "outputId": "2da505e7-86f3-449b-8ef8-ddc8a6aab609"
      },
      "outputs": [
        {
          "output_type": "stream",
          "name": "stdout",
          "text": [
            "Looking in indexes: https://pypi.org/simple, https://us-python.pkg.dev/colab-wheels/public/simple/\n",
            "Requirement already satisfied: beautifulsoup4 in /usr/local/lib/python3.7/dist-packages (4.6.3)\n"
          ]
        }
      ],
      "source": [
        "pip install beautifulsoup4"
      ]
    },
    {
      "cell_type": "code",
      "source": [
        "pip install requests\n"
      ],
      "metadata": {
        "colab": {
          "base_uri": "https://localhost:8080/"
        },
        "id": "Z_dlltihtmyM",
        "outputId": "784524ed-f517-4626-a06a-4390c19acfdf"
      },
      "execution_count": null,
      "outputs": [
        {
          "output_type": "stream",
          "name": "stdout",
          "text": [
            "Looking in indexes: https://pypi.org/simple, https://us-python.pkg.dev/colab-wheels/public/simple/\n",
            "Requirement already satisfied: requests in /usr/local/lib/python3.7/dist-packages (2.23.0)\n",
            "Requirement already satisfied: idna<3,>=2.5 in /usr/local/lib/python3.7/dist-packages (from requests) (2.10)\n",
            "Requirement already satisfied: chardet<4,>=3.0.2 in /usr/local/lib/python3.7/dist-packages (from requests) (3.0.4)\n",
            "Requirement already satisfied: urllib3!=1.25.0,!=1.25.1,<1.26,>=1.21.1 in /usr/local/lib/python3.7/dist-packages (from requests) (1.24.3)\n",
            "Requirement already satisfied: certifi>=2017.4.17 in /usr/local/lib/python3.7/dist-packages (from requests) (2022.6.15)\n"
          ]
        }
      ]
    },
    {
      "cell_type": "code",
      "source": [
        "pip install html5lib"
      ],
      "metadata": {
        "colab": {
          "base_uri": "https://localhost:8080/"
        },
        "id": "GXc6xKt4tsNI",
        "outputId": "57e2c538-157a-4d5e-af24-68df654080a8"
      },
      "execution_count": null,
      "outputs": [
        {
          "output_type": "stream",
          "name": "stdout",
          "text": [
            "Looking in indexes: https://pypi.org/simple, https://us-python.pkg.dev/colab-wheels/public/simple/\n",
            "Requirement already satisfied: html5lib in /usr/local/lib/python3.7/dist-packages (1.0.1)\n",
            "Requirement already satisfied: six>=1.9 in /usr/local/lib/python3.7/dist-packages (from html5lib) (1.15.0)\n",
            "Requirement already satisfied: webencodings in /usr/local/lib/python3.7/dist-packages (from html5lib) (0.5.1)\n"
          ]
        }
      ]
    },
    {
      "cell_type": "code",
      "source": [
        "pip install bs4"
      ],
      "metadata": {
        "colab": {
          "base_uri": "https://localhost:8080/"
        },
        "id": "DxgyD0yutsTT",
        "outputId": "9518709a-8e96-4265-c625-21c64f6c93f8"
      },
      "execution_count": null,
      "outputs": [
        {
          "output_type": "stream",
          "name": "stdout",
          "text": [
            "Looking in indexes: https://pypi.org/simple, https://us-python.pkg.dev/colab-wheels/public/simple/\n",
            "Requirement already satisfied: bs4 in /usr/local/lib/python3.7/dist-packages (0.0.1)\n",
            "Requirement already satisfied: beautifulsoup4 in /usr/local/lib/python3.7/dist-packages (from bs4) (4.6.3)\n"
          ]
        }
      ]
    },
    {
      "cell_type": "code",
      "source": [
        "from bs4 import BeautifulSoup\n",
        "import requests\n"
      ],
      "metadata": {
        "id": "rfXAtjYwsMVJ"
      },
      "execution_count": null,
      "outputs": []
    },
    {
      "cell_type": "markdown",
      "source": [
        "### **2. Accessing the HTML content from webpage:**"
      ],
      "metadata": {
        "id": "4AfTGJW6uAcE"
      }
    },
    {
      "cell_type": "code",
      "source": [
        "URL = \"https://www.billboard.com/charts/hot-100/\"\n",
        "r = requests.get(URL)\n",
        "#print(r.content)"
      ],
      "metadata": {
        "id": "Sa6qxGNXsoGG"
      },
      "execution_count": null,
      "outputs": []
    },
    {
      "cell_type": "code",
      "source": [
        "soup = BeautifulSoup(r.content, 'lxml')\n",
        "#print(soup.prettify())"
      ],
      "metadata": {
        "id": "ktAXKhxJQGpq"
      },
      "execution_count": null,
      "outputs": []
    },
    {
      "cell_type": "markdown",
      "source": [
        "### **3. Create a function to get the required dates to get the hot 100 songs for each week**"
      ],
      "metadata": {
        "id": "BrMQQ2BtPRc5"
      }
    },
    {
      "cell_type": "code",
      "source": [
        "def calender_date():\n",
        "  date = []\n",
        "  num_iteration = 5 * 12 * 10   #(4 weeks, 12 months, 10 years) thus to extract the data for the last 10 years\n",
        "\n",
        "  day = 17\n",
        "  month = 9\n",
        "  year = 2022\n",
        "  months = [1, 3, 5, 7, 8, 10, 12]\n",
        "\n",
        "  for i in range(num_iteration):\n",
        "    dates = \"\"\n",
        "    if month < 10 and day < 10:\n",
        "      dates = str(year) + '-' + '0' + str(month) + '-' + '0' + str(day)\n",
        "    elif month < 10 and day >= 10:\n",
        "      dates = str(year) + '-' + '0' + str(month) + '-' + str(day)\n",
        "    elif month >= 10 and day < 10:\n",
        "      dates = str(year) + '-' + str(month) + '-' + '0' + str(day)\n",
        "    else:\n",
        "      dates = str(year) + '-' + str(month) + '-' + str(day)\n",
        "    \n",
        "    date.append(dates)\n",
        "\n",
        "    day = day - 7\n",
        "    if day <= 0:\n",
        "      month = month - 1\n",
        "      if month in months:\n",
        "        day = day + 31\n",
        "      else:\n",
        "        day = day + 30\n",
        "      if month <= 0:\n",
        "        month = 12\n",
        "        year = year - 1\n",
        "\n",
        "  return date\n"
      ],
      "metadata": {
        "id": "nkfPFGbxJrP0"
      },
      "execution_count": null,
      "outputs": []
    },
    {
      "cell_type": "code",
      "source": [
        "datee = calender_date()\n",
        "print(datee)"
      ],
      "metadata": {
        "colab": {
          "base_uri": "https://localhost:8080/"
        },
        "id": "ksPFFnZaKN--",
        "outputId": "c69e6336-6b44-429a-c433-afad5123efaf"
      },
      "execution_count": null,
      "outputs": [
        {
          "output_type": "stream",
          "name": "stdout",
          "text": [
            "['2022-09-17', '2022-09-10', '2022-09-03', '2022-08-27', '2022-08-20', '2022-08-13', '2022-08-06', '2022-07-30', '2022-07-23', '2022-07-16', '2022-07-09', '2022-07-02', '2022-06-25', '2022-06-18', '2022-06-11', '2022-06-04', '2022-05-28', '2022-05-21', '2022-05-14', '2022-05-07', '2022-04-30', '2022-04-23', '2022-04-16', '2022-04-09', '2022-04-02', '2022-03-26', '2022-03-19', '2022-03-12', '2022-03-05', '2022-02-28', '2022-02-21', '2022-02-14', '2022-02-07', '2022-01-31', '2022-01-24', '2022-01-17', '2022-01-10', '2022-01-03', '2021-12-26', '2021-12-19', '2021-12-12', '2021-12-05', '2021-11-28', '2021-11-21', '2021-11-14', '2021-11-07', '2021-10-31', '2021-10-24', '2021-10-17', '2021-10-10', '2021-10-03', '2021-09-26', '2021-09-19', '2021-09-12', '2021-09-05', '2021-08-29', '2021-08-22', '2021-08-15', '2021-08-08', '2021-08-01', '2021-07-25', '2021-07-18', '2021-07-11', '2021-07-04', '2021-06-27', '2021-06-20', '2021-06-13', '2021-06-06', '2021-05-30', '2021-05-23', '2021-05-16', '2021-05-09', '2021-05-02', '2021-04-25', '2021-04-18', '2021-04-11', '2021-04-04', '2021-03-28', '2021-03-21', '2021-03-14', '2021-03-07', '2021-02-30', '2021-02-23', '2021-02-16', '2021-02-09', '2021-02-02', '2021-01-26', '2021-01-19', '2021-01-12', '2021-01-05', '2020-12-28', '2020-12-21', '2020-12-14', '2020-12-07', '2020-11-30', '2020-11-23', '2020-11-16', '2020-11-09', '2020-11-02', '2020-10-26', '2020-10-19', '2020-10-12', '2020-10-05', '2020-09-28', '2020-09-21', '2020-09-14', '2020-09-07', '2020-08-31', '2020-08-24', '2020-08-17', '2020-08-10', '2020-08-03', '2020-07-27', '2020-07-20', '2020-07-13', '2020-07-06', '2020-06-29', '2020-06-22', '2020-06-15', '2020-06-08', '2020-06-01', '2020-05-25', '2020-05-18', '2020-05-11', '2020-05-04', '2020-04-27', '2020-04-20', '2020-04-13', '2020-04-06', '2020-03-30', '2020-03-23', '2020-03-16', '2020-03-09', '2020-03-02', '2020-02-25', '2020-02-18', '2020-02-11', '2020-02-04', '2020-01-28', '2020-01-21', '2020-01-14', '2020-01-07', '2019-12-30', '2019-12-23', '2019-12-16', '2019-12-09', '2019-12-02', '2019-11-25', '2019-11-18', '2019-11-11', '2019-11-04', '2019-10-28', '2019-10-21', '2019-10-14', '2019-10-07', '2019-09-30', '2019-09-23', '2019-09-16', '2019-09-09', '2019-09-02', '2019-08-26', '2019-08-19', '2019-08-12', '2019-08-05', '2019-07-29', '2019-07-22', '2019-07-15', '2019-07-08', '2019-07-01', '2019-06-24', '2019-06-17', '2019-06-10', '2019-06-03', '2019-05-27', '2019-05-20', '2019-05-13', '2019-05-06', '2019-04-29', '2019-04-22', '2019-04-15', '2019-04-08', '2019-04-01', '2019-03-25', '2019-03-18', '2019-03-11', '2019-03-04', '2019-02-27', '2019-02-20', '2019-02-13', '2019-02-06', '2019-01-30', '2019-01-23', '2019-01-16', '2019-01-09', '2019-01-02', '2018-12-25', '2018-12-18', '2018-12-11', '2018-12-04', '2018-11-27', '2018-11-20', '2018-11-13', '2018-11-06', '2018-10-30', '2018-10-23', '2018-10-16', '2018-10-09', '2018-10-02', '2018-09-25', '2018-09-18', '2018-09-11', '2018-09-04', '2018-08-28', '2018-08-21', '2018-08-14', '2018-08-07', '2018-07-31', '2018-07-24', '2018-07-17', '2018-07-10', '2018-07-03', '2018-06-26', '2018-06-19', '2018-06-12', '2018-06-05', '2018-05-29', '2018-05-22', '2018-05-15', '2018-05-08', '2018-05-01', '2018-04-24', '2018-04-17', '2018-04-10', '2018-04-03', '2018-03-27', '2018-03-20', '2018-03-13', '2018-03-06', '2018-02-29', '2018-02-22', '2018-02-15', '2018-02-08', '2018-02-01', '2018-01-25', '2018-01-18', '2018-01-11', '2018-01-04', '2017-12-27', '2017-12-20', '2017-12-13', '2017-12-06', '2017-11-29', '2017-11-22', '2017-11-15', '2017-11-08', '2017-11-01', '2017-10-25', '2017-10-18', '2017-10-11', '2017-10-04', '2017-09-27', '2017-09-20', '2017-09-13', '2017-09-06', '2017-08-30', '2017-08-23', '2017-08-16', '2017-08-09', '2017-08-02', '2017-07-26', '2017-07-19', '2017-07-12', '2017-07-05', '2017-06-28', '2017-06-21', '2017-06-14', '2017-06-07', '2017-05-31', '2017-05-24', '2017-05-17', '2017-05-10', '2017-05-03', '2017-04-26', '2017-04-19', '2017-04-12', '2017-04-05', '2017-03-29', '2017-03-22', '2017-03-15', '2017-03-08', '2017-03-01', '2017-02-24', '2017-02-17', '2017-02-10', '2017-02-03', '2017-01-27', '2017-01-20', '2017-01-13', '2017-01-06', '2016-12-29', '2016-12-22', '2016-12-15', '2016-12-08', '2016-12-01', '2016-11-24', '2016-11-17', '2016-11-10', '2016-11-03', '2016-10-27', '2016-10-20', '2016-10-13', '2016-10-06', '2016-09-29', '2016-09-22', '2016-09-15', '2016-09-08', '2016-09-01', '2016-08-25', '2016-08-18', '2016-08-11', '2016-08-04', '2016-07-28', '2016-07-21', '2016-07-14', '2016-07-07', '2016-06-30', '2016-06-23', '2016-06-16', '2016-06-09', '2016-06-02', '2016-05-26', '2016-05-19', '2016-05-12', '2016-05-05', '2016-04-28', '2016-04-21', '2016-04-14', '2016-04-07', '2016-03-31', '2016-03-24', '2016-03-17', '2016-03-10', '2016-03-03', '2016-02-26', '2016-02-19', '2016-02-12', '2016-02-05', '2016-01-29', '2016-01-22', '2016-01-15', '2016-01-08', '2016-01-01', '2015-12-24', '2015-12-17', '2015-12-10', '2015-12-03', '2015-11-26', '2015-11-19', '2015-11-12', '2015-11-05', '2015-10-29', '2015-10-22', '2015-10-15', '2015-10-08', '2015-10-01', '2015-09-24', '2015-09-17', '2015-09-10', '2015-09-03', '2015-08-27', '2015-08-20', '2015-08-13', '2015-08-06', '2015-07-30', '2015-07-23', '2015-07-16', '2015-07-09', '2015-07-02', '2015-06-25', '2015-06-18', '2015-06-11', '2015-06-04', '2015-05-28', '2015-05-21', '2015-05-14', '2015-05-07', '2015-04-30', '2015-04-23', '2015-04-16', '2015-04-09', '2015-04-02', '2015-03-26', '2015-03-19', '2015-03-12', '2015-03-05', '2015-02-28', '2015-02-21', '2015-02-14', '2015-02-07', '2015-01-31', '2015-01-24', '2015-01-17', '2015-01-10', '2015-01-03', '2014-12-26', '2014-12-19', '2014-12-12', '2014-12-05', '2014-11-28', '2014-11-21', '2014-11-14', '2014-11-07', '2014-10-31', '2014-10-24', '2014-10-17', '2014-10-10', '2014-10-03', '2014-09-26', '2014-09-19', '2014-09-12', '2014-09-05', '2014-08-29', '2014-08-22', '2014-08-15', '2014-08-08', '2014-08-01', '2014-07-25', '2014-07-18', '2014-07-11', '2014-07-04', '2014-06-27', '2014-06-20', '2014-06-13', '2014-06-06', '2014-05-30', '2014-05-23', '2014-05-16', '2014-05-09', '2014-05-02', '2014-04-25', '2014-04-18', '2014-04-11', '2014-04-04', '2014-03-28', '2014-03-21', '2014-03-14', '2014-03-07', '2014-02-30', '2014-02-23', '2014-02-16', '2014-02-09', '2014-02-02', '2014-01-26', '2014-01-19', '2014-01-12', '2014-01-05', '2013-12-28', '2013-12-21', '2013-12-14', '2013-12-07', '2013-11-30', '2013-11-23', '2013-11-16', '2013-11-09', '2013-11-02', '2013-10-26', '2013-10-19', '2013-10-12', '2013-10-05', '2013-09-28', '2013-09-21', '2013-09-14', '2013-09-07', '2013-08-31', '2013-08-24', '2013-08-17', '2013-08-10', '2013-08-03', '2013-07-27', '2013-07-20', '2013-07-13', '2013-07-06', '2013-06-29', '2013-06-22', '2013-06-15', '2013-06-08', '2013-06-01', '2013-05-25', '2013-05-18', '2013-05-11', '2013-05-04', '2013-04-27', '2013-04-20', '2013-04-13', '2013-04-06', '2013-03-30', '2013-03-23', '2013-03-16', '2013-03-09', '2013-03-02', '2013-02-25', '2013-02-18', '2013-02-11', '2013-02-04', '2013-01-28', '2013-01-21', '2013-01-14', '2013-01-07', '2012-12-30', '2012-12-23', '2012-12-16', '2012-12-09', '2012-12-02', '2012-11-25', '2012-11-18', '2012-11-11', '2012-11-04', '2012-10-28', '2012-10-21', '2012-10-14', '2012-10-07', '2012-09-30', '2012-09-23', '2012-09-16', '2012-09-09', '2012-09-02', '2012-08-26', '2012-08-19', '2012-08-12', '2012-08-05', '2012-07-29', '2012-07-22', '2012-07-15', '2012-07-08', '2012-07-01', '2012-06-24', '2012-06-17', '2012-06-10', '2012-06-03', '2012-05-27', '2012-05-20', '2012-05-13', '2012-05-06', '2012-04-29', '2012-04-22', '2012-04-15', '2012-04-08', '2012-04-01', '2012-03-25', '2012-03-18', '2012-03-11', '2012-03-04', '2012-02-27', '2012-02-20', '2012-02-13', '2012-02-06', '2012-01-30', '2012-01-23', '2012-01-16', '2012-01-09', '2012-01-02', '2011-12-25', '2011-12-18', '2011-12-11', '2011-12-04', '2011-11-27', '2011-11-20', '2011-11-13', '2011-11-06', '2011-10-30', '2011-10-23', '2011-10-16', '2011-10-09', '2011-10-02', '2011-09-25', '2011-09-18', '2011-09-11', '2011-09-04', '2011-08-28', '2011-08-21', '2011-08-14', '2011-08-07', '2011-07-31', '2011-07-24', '2011-07-17', '2011-07-10', '2011-07-03', '2011-06-26', '2011-06-19', '2011-06-12', '2011-06-05', '2011-05-29', '2011-05-22', '2011-05-15', '2011-05-08', '2011-05-01', '2011-04-24', '2011-04-17', '2011-04-10', '2011-04-03']\n"
          ]
        }
      ]
    },
    {
      "cell_type": "markdown",
      "source": [
        "### **5. Create a function to get the links for each page accourding to the date**"
      ],
      "metadata": {
        "id": "_xx9uK0ZPgiE"
      }
    },
    {
      "cell_type": "code",
      "source": [
        "def week_link(datee):\n",
        "  links = []\n",
        "  for i in range(len(datee)):\n",
        "    links.append('https://www.billboard.com/charts/hot-100/' + datee[i] + '/')\n",
        "  return links"
      ],
      "metadata": {
        "id": "jyZ7pRctNKp0"
      },
      "execution_count": null,
      "outputs": []
    },
    {
      "cell_type": "code",
      "source": [
        "link = week_link(datee)\n",
        "print(link)"
      ],
      "metadata": {
        "colab": {
          "base_uri": "https://localhost:8080/"
        },
        "id": "2PnGcvZeNoRK",
        "outputId": "34da679a-11ab-4bbf-bc07-31038aaf68bb"
      },
      "execution_count": null,
      "outputs": [
        {
          "output_type": "stream",
          "name": "stdout",
          "text": [
            "['https://www.billboard.com/charts/hot-100/2022-09-17/', 'https://www.billboard.com/charts/hot-100/2022-09-10/', 'https://www.billboard.com/charts/hot-100/2022-09-03/', 'https://www.billboard.com/charts/hot-100/2022-08-27/', 'https://www.billboard.com/charts/hot-100/2022-08-20/', 'https://www.billboard.com/charts/hot-100/2022-08-13/', 'https://www.billboard.com/charts/hot-100/2022-08-06/', 'https://www.billboard.com/charts/hot-100/2022-07-30/', 'https://www.billboard.com/charts/hot-100/2022-07-23/', 'https://www.billboard.com/charts/hot-100/2022-07-16/', 'https://www.billboard.com/charts/hot-100/2022-07-09/', 'https://www.billboard.com/charts/hot-100/2022-07-02/', 'https://www.billboard.com/charts/hot-100/2022-06-25/', 'https://www.billboard.com/charts/hot-100/2022-06-18/', 'https://www.billboard.com/charts/hot-100/2022-06-11/', 'https://www.billboard.com/charts/hot-100/2022-06-04/', 'https://www.billboard.com/charts/hot-100/2022-05-28/', 'https://www.billboard.com/charts/hot-100/2022-05-21/', 'https://www.billboard.com/charts/hot-100/2022-05-14/', 'https://www.billboard.com/charts/hot-100/2022-05-07/', 'https://www.billboard.com/charts/hot-100/2022-04-30/', 'https://www.billboard.com/charts/hot-100/2022-04-23/', 'https://www.billboard.com/charts/hot-100/2022-04-16/', 'https://www.billboard.com/charts/hot-100/2022-04-09/', 'https://www.billboard.com/charts/hot-100/2022-04-02/', 'https://www.billboard.com/charts/hot-100/2022-03-26/', 'https://www.billboard.com/charts/hot-100/2022-03-19/', 'https://www.billboard.com/charts/hot-100/2022-03-12/', 'https://www.billboard.com/charts/hot-100/2022-03-05/', 'https://www.billboard.com/charts/hot-100/2022-02-28/', 'https://www.billboard.com/charts/hot-100/2022-02-21/', 'https://www.billboard.com/charts/hot-100/2022-02-14/', 'https://www.billboard.com/charts/hot-100/2022-02-07/', 'https://www.billboard.com/charts/hot-100/2022-01-31/', 'https://www.billboard.com/charts/hot-100/2022-01-24/', 'https://www.billboard.com/charts/hot-100/2022-01-17/', 'https://www.billboard.com/charts/hot-100/2022-01-10/', 'https://www.billboard.com/charts/hot-100/2022-01-03/', 'https://www.billboard.com/charts/hot-100/2021-12-26/', 'https://www.billboard.com/charts/hot-100/2021-12-19/', 'https://www.billboard.com/charts/hot-100/2021-12-12/', 'https://www.billboard.com/charts/hot-100/2021-12-05/', 'https://www.billboard.com/charts/hot-100/2021-11-28/', 'https://www.billboard.com/charts/hot-100/2021-11-21/', 'https://www.billboard.com/charts/hot-100/2021-11-14/', 'https://www.billboard.com/charts/hot-100/2021-11-07/', 'https://www.billboard.com/charts/hot-100/2021-10-31/', 'https://www.billboard.com/charts/hot-100/2021-10-24/', 'https://www.billboard.com/charts/hot-100/2021-10-17/', 'https://www.billboard.com/charts/hot-100/2021-10-10/', 'https://www.billboard.com/charts/hot-100/2021-10-03/', 'https://www.billboard.com/charts/hot-100/2021-09-26/', 'https://www.billboard.com/charts/hot-100/2021-09-19/', 'https://www.billboard.com/charts/hot-100/2021-09-12/', 'https://www.billboard.com/charts/hot-100/2021-09-05/', 'https://www.billboard.com/charts/hot-100/2021-08-29/', 'https://www.billboard.com/charts/hot-100/2021-08-22/', 'https://www.billboard.com/charts/hot-100/2021-08-15/', 'https://www.billboard.com/charts/hot-100/2021-08-08/', 'https://www.billboard.com/charts/hot-100/2021-08-01/', 'https://www.billboard.com/charts/hot-100/2021-07-25/', 'https://www.billboard.com/charts/hot-100/2021-07-18/', 'https://www.billboard.com/charts/hot-100/2021-07-11/', 'https://www.billboard.com/charts/hot-100/2021-07-04/', 'https://www.billboard.com/charts/hot-100/2021-06-27/', 'https://www.billboard.com/charts/hot-100/2021-06-20/', 'https://www.billboard.com/charts/hot-100/2021-06-13/', 'https://www.billboard.com/charts/hot-100/2021-06-06/', 'https://www.billboard.com/charts/hot-100/2021-05-30/', 'https://www.billboard.com/charts/hot-100/2021-05-23/', 'https://www.billboard.com/charts/hot-100/2021-05-16/', 'https://www.billboard.com/charts/hot-100/2021-05-09/', 'https://www.billboard.com/charts/hot-100/2021-05-02/', 'https://www.billboard.com/charts/hot-100/2021-04-25/', 'https://www.billboard.com/charts/hot-100/2021-04-18/', 'https://www.billboard.com/charts/hot-100/2021-04-11/', 'https://www.billboard.com/charts/hot-100/2021-04-04/', 'https://www.billboard.com/charts/hot-100/2021-03-28/', 'https://www.billboard.com/charts/hot-100/2021-03-21/', 'https://www.billboard.com/charts/hot-100/2021-03-14/', 'https://www.billboard.com/charts/hot-100/2021-03-07/', 'https://www.billboard.com/charts/hot-100/2021-02-30/', 'https://www.billboard.com/charts/hot-100/2021-02-23/', 'https://www.billboard.com/charts/hot-100/2021-02-16/', 'https://www.billboard.com/charts/hot-100/2021-02-09/', 'https://www.billboard.com/charts/hot-100/2021-02-02/', 'https://www.billboard.com/charts/hot-100/2021-01-26/', 'https://www.billboard.com/charts/hot-100/2021-01-19/', 'https://www.billboard.com/charts/hot-100/2021-01-12/', 'https://www.billboard.com/charts/hot-100/2021-01-05/', 'https://www.billboard.com/charts/hot-100/2020-12-28/', 'https://www.billboard.com/charts/hot-100/2020-12-21/', 'https://www.billboard.com/charts/hot-100/2020-12-14/', 'https://www.billboard.com/charts/hot-100/2020-12-07/', 'https://www.billboard.com/charts/hot-100/2020-11-30/', 'https://www.billboard.com/charts/hot-100/2020-11-23/', 'https://www.billboard.com/charts/hot-100/2020-11-16/', 'https://www.billboard.com/charts/hot-100/2020-11-09/', 'https://www.billboard.com/charts/hot-100/2020-11-02/', 'https://www.billboard.com/charts/hot-100/2020-10-26/', 'https://www.billboard.com/charts/hot-100/2020-10-19/', 'https://www.billboard.com/charts/hot-100/2020-10-12/', 'https://www.billboard.com/charts/hot-100/2020-10-05/', 'https://www.billboard.com/charts/hot-100/2020-09-28/', 'https://www.billboard.com/charts/hot-100/2020-09-21/', 'https://www.billboard.com/charts/hot-100/2020-09-14/', 'https://www.billboard.com/charts/hot-100/2020-09-07/', 'https://www.billboard.com/charts/hot-100/2020-08-31/', 'https://www.billboard.com/charts/hot-100/2020-08-24/', 'https://www.billboard.com/charts/hot-100/2020-08-17/', 'https://www.billboard.com/charts/hot-100/2020-08-10/', 'https://www.billboard.com/charts/hot-100/2020-08-03/', 'https://www.billboard.com/charts/hot-100/2020-07-27/', 'https://www.billboard.com/charts/hot-100/2020-07-20/', 'https://www.billboard.com/charts/hot-100/2020-07-13/', 'https://www.billboard.com/charts/hot-100/2020-07-06/', 'https://www.billboard.com/charts/hot-100/2020-06-29/', 'https://www.billboard.com/charts/hot-100/2020-06-22/', 'https://www.billboard.com/charts/hot-100/2020-06-15/', 'https://www.billboard.com/charts/hot-100/2020-06-08/', 'https://www.billboard.com/charts/hot-100/2020-06-01/', 'https://www.billboard.com/charts/hot-100/2020-05-25/', 'https://www.billboard.com/charts/hot-100/2020-05-18/', 'https://www.billboard.com/charts/hot-100/2020-05-11/', 'https://www.billboard.com/charts/hot-100/2020-05-04/', 'https://www.billboard.com/charts/hot-100/2020-04-27/', 'https://www.billboard.com/charts/hot-100/2020-04-20/', 'https://www.billboard.com/charts/hot-100/2020-04-13/', 'https://www.billboard.com/charts/hot-100/2020-04-06/', 'https://www.billboard.com/charts/hot-100/2020-03-30/', 'https://www.billboard.com/charts/hot-100/2020-03-23/', 'https://www.billboard.com/charts/hot-100/2020-03-16/', 'https://www.billboard.com/charts/hot-100/2020-03-09/', 'https://www.billboard.com/charts/hot-100/2020-03-02/', 'https://www.billboard.com/charts/hot-100/2020-02-25/', 'https://www.billboard.com/charts/hot-100/2020-02-18/', 'https://www.billboard.com/charts/hot-100/2020-02-11/', 'https://www.billboard.com/charts/hot-100/2020-02-04/', 'https://www.billboard.com/charts/hot-100/2020-01-28/', 'https://www.billboard.com/charts/hot-100/2020-01-21/', 'https://www.billboard.com/charts/hot-100/2020-01-14/', 'https://www.billboard.com/charts/hot-100/2020-01-07/', 'https://www.billboard.com/charts/hot-100/2019-12-30/', 'https://www.billboard.com/charts/hot-100/2019-12-23/', 'https://www.billboard.com/charts/hot-100/2019-12-16/', 'https://www.billboard.com/charts/hot-100/2019-12-09/', 'https://www.billboard.com/charts/hot-100/2019-12-02/', 'https://www.billboard.com/charts/hot-100/2019-11-25/', 'https://www.billboard.com/charts/hot-100/2019-11-18/', 'https://www.billboard.com/charts/hot-100/2019-11-11/', 'https://www.billboard.com/charts/hot-100/2019-11-04/', 'https://www.billboard.com/charts/hot-100/2019-10-28/', 'https://www.billboard.com/charts/hot-100/2019-10-21/', 'https://www.billboard.com/charts/hot-100/2019-10-14/', 'https://www.billboard.com/charts/hot-100/2019-10-07/', 'https://www.billboard.com/charts/hot-100/2019-09-30/', 'https://www.billboard.com/charts/hot-100/2019-09-23/', 'https://www.billboard.com/charts/hot-100/2019-09-16/', 'https://www.billboard.com/charts/hot-100/2019-09-09/', 'https://www.billboard.com/charts/hot-100/2019-09-02/', 'https://www.billboard.com/charts/hot-100/2019-08-26/', 'https://www.billboard.com/charts/hot-100/2019-08-19/', 'https://www.billboard.com/charts/hot-100/2019-08-12/', 'https://www.billboard.com/charts/hot-100/2019-08-05/', 'https://www.billboard.com/charts/hot-100/2019-07-29/', 'https://www.billboard.com/charts/hot-100/2019-07-22/', 'https://www.billboard.com/charts/hot-100/2019-07-15/', 'https://www.billboard.com/charts/hot-100/2019-07-08/', 'https://www.billboard.com/charts/hot-100/2019-07-01/', 'https://www.billboard.com/charts/hot-100/2019-06-24/', 'https://www.billboard.com/charts/hot-100/2019-06-17/', 'https://www.billboard.com/charts/hot-100/2019-06-10/', 'https://www.billboard.com/charts/hot-100/2019-06-03/', 'https://www.billboard.com/charts/hot-100/2019-05-27/', 'https://www.billboard.com/charts/hot-100/2019-05-20/', 'https://www.billboard.com/charts/hot-100/2019-05-13/', 'https://www.billboard.com/charts/hot-100/2019-05-06/', 'https://www.billboard.com/charts/hot-100/2019-04-29/', 'https://www.billboard.com/charts/hot-100/2019-04-22/', 'https://www.billboard.com/charts/hot-100/2019-04-15/', 'https://www.billboard.com/charts/hot-100/2019-04-08/', 'https://www.billboard.com/charts/hot-100/2019-04-01/', 'https://www.billboard.com/charts/hot-100/2019-03-25/', 'https://www.billboard.com/charts/hot-100/2019-03-18/', 'https://www.billboard.com/charts/hot-100/2019-03-11/', 'https://www.billboard.com/charts/hot-100/2019-03-04/', 'https://www.billboard.com/charts/hot-100/2019-02-27/', 'https://www.billboard.com/charts/hot-100/2019-02-20/', 'https://www.billboard.com/charts/hot-100/2019-02-13/', 'https://www.billboard.com/charts/hot-100/2019-02-06/', 'https://www.billboard.com/charts/hot-100/2019-01-30/', 'https://www.billboard.com/charts/hot-100/2019-01-23/', 'https://www.billboard.com/charts/hot-100/2019-01-16/', 'https://www.billboard.com/charts/hot-100/2019-01-09/', 'https://www.billboard.com/charts/hot-100/2019-01-02/', 'https://www.billboard.com/charts/hot-100/2018-12-25/', 'https://www.billboard.com/charts/hot-100/2018-12-18/', 'https://www.billboard.com/charts/hot-100/2018-12-11/', 'https://www.billboard.com/charts/hot-100/2018-12-04/', 'https://www.billboard.com/charts/hot-100/2018-11-27/', 'https://www.billboard.com/charts/hot-100/2018-11-20/', 'https://www.billboard.com/charts/hot-100/2018-11-13/', 'https://www.billboard.com/charts/hot-100/2018-11-06/', 'https://www.billboard.com/charts/hot-100/2018-10-30/', 'https://www.billboard.com/charts/hot-100/2018-10-23/', 'https://www.billboard.com/charts/hot-100/2018-10-16/', 'https://www.billboard.com/charts/hot-100/2018-10-09/', 'https://www.billboard.com/charts/hot-100/2018-10-02/', 'https://www.billboard.com/charts/hot-100/2018-09-25/', 'https://www.billboard.com/charts/hot-100/2018-09-18/', 'https://www.billboard.com/charts/hot-100/2018-09-11/', 'https://www.billboard.com/charts/hot-100/2018-09-04/', 'https://www.billboard.com/charts/hot-100/2018-08-28/', 'https://www.billboard.com/charts/hot-100/2018-08-21/', 'https://www.billboard.com/charts/hot-100/2018-08-14/', 'https://www.billboard.com/charts/hot-100/2018-08-07/', 'https://www.billboard.com/charts/hot-100/2018-07-31/', 'https://www.billboard.com/charts/hot-100/2018-07-24/', 'https://www.billboard.com/charts/hot-100/2018-07-17/', 'https://www.billboard.com/charts/hot-100/2018-07-10/', 'https://www.billboard.com/charts/hot-100/2018-07-03/', 'https://www.billboard.com/charts/hot-100/2018-06-26/', 'https://www.billboard.com/charts/hot-100/2018-06-19/', 'https://www.billboard.com/charts/hot-100/2018-06-12/', 'https://www.billboard.com/charts/hot-100/2018-06-05/', 'https://www.billboard.com/charts/hot-100/2018-05-29/', 'https://www.billboard.com/charts/hot-100/2018-05-22/', 'https://www.billboard.com/charts/hot-100/2018-05-15/', 'https://www.billboard.com/charts/hot-100/2018-05-08/', 'https://www.billboard.com/charts/hot-100/2018-05-01/', 'https://www.billboard.com/charts/hot-100/2018-04-24/', 'https://www.billboard.com/charts/hot-100/2018-04-17/', 'https://www.billboard.com/charts/hot-100/2018-04-10/', 'https://www.billboard.com/charts/hot-100/2018-04-03/', 'https://www.billboard.com/charts/hot-100/2018-03-27/', 'https://www.billboard.com/charts/hot-100/2018-03-20/', 'https://www.billboard.com/charts/hot-100/2018-03-13/', 'https://www.billboard.com/charts/hot-100/2018-03-06/', 'https://www.billboard.com/charts/hot-100/2018-02-29/', 'https://www.billboard.com/charts/hot-100/2018-02-22/', 'https://www.billboard.com/charts/hot-100/2018-02-15/', 'https://www.billboard.com/charts/hot-100/2018-02-08/', 'https://www.billboard.com/charts/hot-100/2018-02-01/', 'https://www.billboard.com/charts/hot-100/2018-01-25/', 'https://www.billboard.com/charts/hot-100/2018-01-18/', 'https://www.billboard.com/charts/hot-100/2018-01-11/', 'https://www.billboard.com/charts/hot-100/2018-01-04/', 'https://www.billboard.com/charts/hot-100/2017-12-27/', 'https://www.billboard.com/charts/hot-100/2017-12-20/', 'https://www.billboard.com/charts/hot-100/2017-12-13/', 'https://www.billboard.com/charts/hot-100/2017-12-06/', 'https://www.billboard.com/charts/hot-100/2017-11-29/', 'https://www.billboard.com/charts/hot-100/2017-11-22/', 'https://www.billboard.com/charts/hot-100/2017-11-15/', 'https://www.billboard.com/charts/hot-100/2017-11-08/', 'https://www.billboard.com/charts/hot-100/2017-11-01/', 'https://www.billboard.com/charts/hot-100/2017-10-25/', 'https://www.billboard.com/charts/hot-100/2017-10-18/', 'https://www.billboard.com/charts/hot-100/2017-10-11/', 'https://www.billboard.com/charts/hot-100/2017-10-04/', 'https://www.billboard.com/charts/hot-100/2017-09-27/', 'https://www.billboard.com/charts/hot-100/2017-09-20/', 'https://www.billboard.com/charts/hot-100/2017-09-13/', 'https://www.billboard.com/charts/hot-100/2017-09-06/', 'https://www.billboard.com/charts/hot-100/2017-08-30/', 'https://www.billboard.com/charts/hot-100/2017-08-23/', 'https://www.billboard.com/charts/hot-100/2017-08-16/', 'https://www.billboard.com/charts/hot-100/2017-08-09/', 'https://www.billboard.com/charts/hot-100/2017-08-02/', 'https://www.billboard.com/charts/hot-100/2017-07-26/', 'https://www.billboard.com/charts/hot-100/2017-07-19/', 'https://www.billboard.com/charts/hot-100/2017-07-12/', 'https://www.billboard.com/charts/hot-100/2017-07-05/', 'https://www.billboard.com/charts/hot-100/2017-06-28/', 'https://www.billboard.com/charts/hot-100/2017-06-21/', 'https://www.billboard.com/charts/hot-100/2017-06-14/', 'https://www.billboard.com/charts/hot-100/2017-06-07/', 'https://www.billboard.com/charts/hot-100/2017-05-31/', 'https://www.billboard.com/charts/hot-100/2017-05-24/', 'https://www.billboard.com/charts/hot-100/2017-05-17/', 'https://www.billboard.com/charts/hot-100/2017-05-10/', 'https://www.billboard.com/charts/hot-100/2017-05-03/', 'https://www.billboard.com/charts/hot-100/2017-04-26/', 'https://www.billboard.com/charts/hot-100/2017-04-19/', 'https://www.billboard.com/charts/hot-100/2017-04-12/', 'https://www.billboard.com/charts/hot-100/2017-04-05/', 'https://www.billboard.com/charts/hot-100/2017-03-29/', 'https://www.billboard.com/charts/hot-100/2017-03-22/', 'https://www.billboard.com/charts/hot-100/2017-03-15/', 'https://www.billboard.com/charts/hot-100/2017-03-08/', 'https://www.billboard.com/charts/hot-100/2017-03-01/', 'https://www.billboard.com/charts/hot-100/2017-02-24/', 'https://www.billboard.com/charts/hot-100/2017-02-17/', 'https://www.billboard.com/charts/hot-100/2017-02-10/', 'https://www.billboard.com/charts/hot-100/2017-02-03/', 'https://www.billboard.com/charts/hot-100/2017-01-27/', 'https://www.billboard.com/charts/hot-100/2017-01-20/', 'https://www.billboard.com/charts/hot-100/2017-01-13/', 'https://www.billboard.com/charts/hot-100/2017-01-06/', 'https://www.billboard.com/charts/hot-100/2016-12-29/', 'https://www.billboard.com/charts/hot-100/2016-12-22/', 'https://www.billboard.com/charts/hot-100/2016-12-15/', 'https://www.billboard.com/charts/hot-100/2016-12-08/', 'https://www.billboard.com/charts/hot-100/2016-12-01/', 'https://www.billboard.com/charts/hot-100/2016-11-24/', 'https://www.billboard.com/charts/hot-100/2016-11-17/', 'https://www.billboard.com/charts/hot-100/2016-11-10/', 'https://www.billboard.com/charts/hot-100/2016-11-03/', 'https://www.billboard.com/charts/hot-100/2016-10-27/', 'https://www.billboard.com/charts/hot-100/2016-10-20/', 'https://www.billboard.com/charts/hot-100/2016-10-13/', 'https://www.billboard.com/charts/hot-100/2016-10-06/', 'https://www.billboard.com/charts/hot-100/2016-09-29/', 'https://www.billboard.com/charts/hot-100/2016-09-22/', 'https://www.billboard.com/charts/hot-100/2016-09-15/', 'https://www.billboard.com/charts/hot-100/2016-09-08/', 'https://www.billboard.com/charts/hot-100/2016-09-01/', 'https://www.billboard.com/charts/hot-100/2016-08-25/', 'https://www.billboard.com/charts/hot-100/2016-08-18/', 'https://www.billboard.com/charts/hot-100/2016-08-11/', 'https://www.billboard.com/charts/hot-100/2016-08-04/', 'https://www.billboard.com/charts/hot-100/2016-07-28/', 'https://www.billboard.com/charts/hot-100/2016-07-21/', 'https://www.billboard.com/charts/hot-100/2016-07-14/', 'https://www.billboard.com/charts/hot-100/2016-07-07/', 'https://www.billboard.com/charts/hot-100/2016-06-30/', 'https://www.billboard.com/charts/hot-100/2016-06-23/', 'https://www.billboard.com/charts/hot-100/2016-06-16/', 'https://www.billboard.com/charts/hot-100/2016-06-09/', 'https://www.billboard.com/charts/hot-100/2016-06-02/', 'https://www.billboard.com/charts/hot-100/2016-05-26/', 'https://www.billboard.com/charts/hot-100/2016-05-19/', 'https://www.billboard.com/charts/hot-100/2016-05-12/', 'https://www.billboard.com/charts/hot-100/2016-05-05/', 'https://www.billboard.com/charts/hot-100/2016-04-28/', 'https://www.billboard.com/charts/hot-100/2016-04-21/', 'https://www.billboard.com/charts/hot-100/2016-04-14/', 'https://www.billboard.com/charts/hot-100/2016-04-07/', 'https://www.billboard.com/charts/hot-100/2016-03-31/', 'https://www.billboard.com/charts/hot-100/2016-03-24/', 'https://www.billboard.com/charts/hot-100/2016-03-17/', 'https://www.billboard.com/charts/hot-100/2016-03-10/', 'https://www.billboard.com/charts/hot-100/2016-03-03/', 'https://www.billboard.com/charts/hot-100/2016-02-26/', 'https://www.billboard.com/charts/hot-100/2016-02-19/', 'https://www.billboard.com/charts/hot-100/2016-02-12/', 'https://www.billboard.com/charts/hot-100/2016-02-05/', 'https://www.billboard.com/charts/hot-100/2016-01-29/', 'https://www.billboard.com/charts/hot-100/2016-01-22/', 'https://www.billboard.com/charts/hot-100/2016-01-15/', 'https://www.billboard.com/charts/hot-100/2016-01-08/', 'https://www.billboard.com/charts/hot-100/2016-01-01/', 'https://www.billboard.com/charts/hot-100/2015-12-24/', 'https://www.billboard.com/charts/hot-100/2015-12-17/', 'https://www.billboard.com/charts/hot-100/2015-12-10/', 'https://www.billboard.com/charts/hot-100/2015-12-03/', 'https://www.billboard.com/charts/hot-100/2015-11-26/', 'https://www.billboard.com/charts/hot-100/2015-11-19/', 'https://www.billboard.com/charts/hot-100/2015-11-12/', 'https://www.billboard.com/charts/hot-100/2015-11-05/', 'https://www.billboard.com/charts/hot-100/2015-10-29/', 'https://www.billboard.com/charts/hot-100/2015-10-22/', 'https://www.billboard.com/charts/hot-100/2015-10-15/', 'https://www.billboard.com/charts/hot-100/2015-10-08/', 'https://www.billboard.com/charts/hot-100/2015-10-01/', 'https://www.billboard.com/charts/hot-100/2015-09-24/', 'https://www.billboard.com/charts/hot-100/2015-09-17/', 'https://www.billboard.com/charts/hot-100/2015-09-10/', 'https://www.billboard.com/charts/hot-100/2015-09-03/', 'https://www.billboard.com/charts/hot-100/2015-08-27/', 'https://www.billboard.com/charts/hot-100/2015-08-20/', 'https://www.billboard.com/charts/hot-100/2015-08-13/', 'https://www.billboard.com/charts/hot-100/2015-08-06/', 'https://www.billboard.com/charts/hot-100/2015-07-30/', 'https://www.billboard.com/charts/hot-100/2015-07-23/', 'https://www.billboard.com/charts/hot-100/2015-07-16/', 'https://www.billboard.com/charts/hot-100/2015-07-09/', 'https://www.billboard.com/charts/hot-100/2015-07-02/', 'https://www.billboard.com/charts/hot-100/2015-06-25/', 'https://www.billboard.com/charts/hot-100/2015-06-18/', 'https://www.billboard.com/charts/hot-100/2015-06-11/', 'https://www.billboard.com/charts/hot-100/2015-06-04/', 'https://www.billboard.com/charts/hot-100/2015-05-28/', 'https://www.billboard.com/charts/hot-100/2015-05-21/', 'https://www.billboard.com/charts/hot-100/2015-05-14/', 'https://www.billboard.com/charts/hot-100/2015-05-07/', 'https://www.billboard.com/charts/hot-100/2015-04-30/', 'https://www.billboard.com/charts/hot-100/2015-04-23/', 'https://www.billboard.com/charts/hot-100/2015-04-16/', 'https://www.billboard.com/charts/hot-100/2015-04-09/', 'https://www.billboard.com/charts/hot-100/2015-04-02/', 'https://www.billboard.com/charts/hot-100/2015-03-26/', 'https://www.billboard.com/charts/hot-100/2015-03-19/', 'https://www.billboard.com/charts/hot-100/2015-03-12/', 'https://www.billboard.com/charts/hot-100/2015-03-05/', 'https://www.billboard.com/charts/hot-100/2015-02-28/', 'https://www.billboard.com/charts/hot-100/2015-02-21/', 'https://www.billboard.com/charts/hot-100/2015-02-14/', 'https://www.billboard.com/charts/hot-100/2015-02-07/', 'https://www.billboard.com/charts/hot-100/2015-01-31/', 'https://www.billboard.com/charts/hot-100/2015-01-24/', 'https://www.billboard.com/charts/hot-100/2015-01-17/', 'https://www.billboard.com/charts/hot-100/2015-01-10/', 'https://www.billboard.com/charts/hot-100/2015-01-03/', 'https://www.billboard.com/charts/hot-100/2014-12-26/', 'https://www.billboard.com/charts/hot-100/2014-12-19/', 'https://www.billboard.com/charts/hot-100/2014-12-12/', 'https://www.billboard.com/charts/hot-100/2014-12-05/', 'https://www.billboard.com/charts/hot-100/2014-11-28/', 'https://www.billboard.com/charts/hot-100/2014-11-21/', 'https://www.billboard.com/charts/hot-100/2014-11-14/', 'https://www.billboard.com/charts/hot-100/2014-11-07/', 'https://www.billboard.com/charts/hot-100/2014-10-31/', 'https://www.billboard.com/charts/hot-100/2014-10-24/', 'https://www.billboard.com/charts/hot-100/2014-10-17/', 'https://www.billboard.com/charts/hot-100/2014-10-10/', 'https://www.billboard.com/charts/hot-100/2014-10-03/', 'https://www.billboard.com/charts/hot-100/2014-09-26/', 'https://www.billboard.com/charts/hot-100/2014-09-19/', 'https://www.billboard.com/charts/hot-100/2014-09-12/', 'https://www.billboard.com/charts/hot-100/2014-09-05/', 'https://www.billboard.com/charts/hot-100/2014-08-29/', 'https://www.billboard.com/charts/hot-100/2014-08-22/', 'https://www.billboard.com/charts/hot-100/2014-08-15/', 'https://www.billboard.com/charts/hot-100/2014-08-08/', 'https://www.billboard.com/charts/hot-100/2014-08-01/', 'https://www.billboard.com/charts/hot-100/2014-07-25/', 'https://www.billboard.com/charts/hot-100/2014-07-18/', 'https://www.billboard.com/charts/hot-100/2014-07-11/', 'https://www.billboard.com/charts/hot-100/2014-07-04/', 'https://www.billboard.com/charts/hot-100/2014-06-27/', 'https://www.billboard.com/charts/hot-100/2014-06-20/', 'https://www.billboard.com/charts/hot-100/2014-06-13/', 'https://www.billboard.com/charts/hot-100/2014-06-06/', 'https://www.billboard.com/charts/hot-100/2014-05-30/', 'https://www.billboard.com/charts/hot-100/2014-05-23/', 'https://www.billboard.com/charts/hot-100/2014-05-16/', 'https://www.billboard.com/charts/hot-100/2014-05-09/', 'https://www.billboard.com/charts/hot-100/2014-05-02/', 'https://www.billboard.com/charts/hot-100/2014-04-25/', 'https://www.billboard.com/charts/hot-100/2014-04-18/', 'https://www.billboard.com/charts/hot-100/2014-04-11/', 'https://www.billboard.com/charts/hot-100/2014-04-04/', 'https://www.billboard.com/charts/hot-100/2014-03-28/', 'https://www.billboard.com/charts/hot-100/2014-03-21/', 'https://www.billboard.com/charts/hot-100/2014-03-14/', 'https://www.billboard.com/charts/hot-100/2014-03-07/', 'https://www.billboard.com/charts/hot-100/2014-02-30/', 'https://www.billboard.com/charts/hot-100/2014-02-23/', 'https://www.billboard.com/charts/hot-100/2014-02-16/', 'https://www.billboard.com/charts/hot-100/2014-02-09/', 'https://www.billboard.com/charts/hot-100/2014-02-02/', 'https://www.billboard.com/charts/hot-100/2014-01-26/', 'https://www.billboard.com/charts/hot-100/2014-01-19/', 'https://www.billboard.com/charts/hot-100/2014-01-12/', 'https://www.billboard.com/charts/hot-100/2014-01-05/', 'https://www.billboard.com/charts/hot-100/2013-12-28/', 'https://www.billboard.com/charts/hot-100/2013-12-21/', 'https://www.billboard.com/charts/hot-100/2013-12-14/', 'https://www.billboard.com/charts/hot-100/2013-12-07/', 'https://www.billboard.com/charts/hot-100/2013-11-30/', 'https://www.billboard.com/charts/hot-100/2013-11-23/', 'https://www.billboard.com/charts/hot-100/2013-11-16/', 'https://www.billboard.com/charts/hot-100/2013-11-09/', 'https://www.billboard.com/charts/hot-100/2013-11-02/', 'https://www.billboard.com/charts/hot-100/2013-10-26/', 'https://www.billboard.com/charts/hot-100/2013-10-19/', 'https://www.billboard.com/charts/hot-100/2013-10-12/', 'https://www.billboard.com/charts/hot-100/2013-10-05/', 'https://www.billboard.com/charts/hot-100/2013-09-28/', 'https://www.billboard.com/charts/hot-100/2013-09-21/', 'https://www.billboard.com/charts/hot-100/2013-09-14/', 'https://www.billboard.com/charts/hot-100/2013-09-07/', 'https://www.billboard.com/charts/hot-100/2013-08-31/', 'https://www.billboard.com/charts/hot-100/2013-08-24/', 'https://www.billboard.com/charts/hot-100/2013-08-17/', 'https://www.billboard.com/charts/hot-100/2013-08-10/', 'https://www.billboard.com/charts/hot-100/2013-08-03/', 'https://www.billboard.com/charts/hot-100/2013-07-27/', 'https://www.billboard.com/charts/hot-100/2013-07-20/', 'https://www.billboard.com/charts/hot-100/2013-07-13/', 'https://www.billboard.com/charts/hot-100/2013-07-06/', 'https://www.billboard.com/charts/hot-100/2013-06-29/', 'https://www.billboard.com/charts/hot-100/2013-06-22/', 'https://www.billboard.com/charts/hot-100/2013-06-15/', 'https://www.billboard.com/charts/hot-100/2013-06-08/', 'https://www.billboard.com/charts/hot-100/2013-06-01/', 'https://www.billboard.com/charts/hot-100/2013-05-25/', 'https://www.billboard.com/charts/hot-100/2013-05-18/', 'https://www.billboard.com/charts/hot-100/2013-05-11/', 'https://www.billboard.com/charts/hot-100/2013-05-04/', 'https://www.billboard.com/charts/hot-100/2013-04-27/', 'https://www.billboard.com/charts/hot-100/2013-04-20/', 'https://www.billboard.com/charts/hot-100/2013-04-13/', 'https://www.billboard.com/charts/hot-100/2013-04-06/', 'https://www.billboard.com/charts/hot-100/2013-03-30/', 'https://www.billboard.com/charts/hot-100/2013-03-23/', 'https://www.billboard.com/charts/hot-100/2013-03-16/', 'https://www.billboard.com/charts/hot-100/2013-03-09/', 'https://www.billboard.com/charts/hot-100/2013-03-02/', 'https://www.billboard.com/charts/hot-100/2013-02-25/', 'https://www.billboard.com/charts/hot-100/2013-02-18/', 'https://www.billboard.com/charts/hot-100/2013-02-11/', 'https://www.billboard.com/charts/hot-100/2013-02-04/', 'https://www.billboard.com/charts/hot-100/2013-01-28/', 'https://www.billboard.com/charts/hot-100/2013-01-21/', 'https://www.billboard.com/charts/hot-100/2013-01-14/', 'https://www.billboard.com/charts/hot-100/2013-01-07/', 'https://www.billboard.com/charts/hot-100/2012-12-30/', 'https://www.billboard.com/charts/hot-100/2012-12-23/', 'https://www.billboard.com/charts/hot-100/2012-12-16/', 'https://www.billboard.com/charts/hot-100/2012-12-09/', 'https://www.billboard.com/charts/hot-100/2012-12-02/', 'https://www.billboard.com/charts/hot-100/2012-11-25/', 'https://www.billboard.com/charts/hot-100/2012-11-18/', 'https://www.billboard.com/charts/hot-100/2012-11-11/', 'https://www.billboard.com/charts/hot-100/2012-11-04/', 'https://www.billboard.com/charts/hot-100/2012-10-28/', 'https://www.billboard.com/charts/hot-100/2012-10-21/', 'https://www.billboard.com/charts/hot-100/2012-10-14/', 'https://www.billboard.com/charts/hot-100/2012-10-07/', 'https://www.billboard.com/charts/hot-100/2012-09-30/', 'https://www.billboard.com/charts/hot-100/2012-09-23/', 'https://www.billboard.com/charts/hot-100/2012-09-16/', 'https://www.billboard.com/charts/hot-100/2012-09-09/', 'https://www.billboard.com/charts/hot-100/2012-09-02/', 'https://www.billboard.com/charts/hot-100/2012-08-26/', 'https://www.billboard.com/charts/hot-100/2012-08-19/', 'https://www.billboard.com/charts/hot-100/2012-08-12/', 'https://www.billboard.com/charts/hot-100/2012-08-05/', 'https://www.billboard.com/charts/hot-100/2012-07-29/', 'https://www.billboard.com/charts/hot-100/2012-07-22/', 'https://www.billboard.com/charts/hot-100/2012-07-15/', 'https://www.billboard.com/charts/hot-100/2012-07-08/', 'https://www.billboard.com/charts/hot-100/2012-07-01/', 'https://www.billboard.com/charts/hot-100/2012-06-24/', 'https://www.billboard.com/charts/hot-100/2012-06-17/', 'https://www.billboard.com/charts/hot-100/2012-06-10/', 'https://www.billboard.com/charts/hot-100/2012-06-03/', 'https://www.billboard.com/charts/hot-100/2012-05-27/', 'https://www.billboard.com/charts/hot-100/2012-05-20/', 'https://www.billboard.com/charts/hot-100/2012-05-13/', 'https://www.billboard.com/charts/hot-100/2012-05-06/', 'https://www.billboard.com/charts/hot-100/2012-04-29/', 'https://www.billboard.com/charts/hot-100/2012-04-22/', 'https://www.billboard.com/charts/hot-100/2012-04-15/', 'https://www.billboard.com/charts/hot-100/2012-04-08/', 'https://www.billboard.com/charts/hot-100/2012-04-01/', 'https://www.billboard.com/charts/hot-100/2012-03-25/', 'https://www.billboard.com/charts/hot-100/2012-03-18/', 'https://www.billboard.com/charts/hot-100/2012-03-11/', 'https://www.billboard.com/charts/hot-100/2012-03-04/', 'https://www.billboard.com/charts/hot-100/2012-02-27/', 'https://www.billboard.com/charts/hot-100/2012-02-20/', 'https://www.billboard.com/charts/hot-100/2012-02-13/', 'https://www.billboard.com/charts/hot-100/2012-02-06/', 'https://www.billboard.com/charts/hot-100/2012-01-30/', 'https://www.billboard.com/charts/hot-100/2012-01-23/', 'https://www.billboard.com/charts/hot-100/2012-01-16/', 'https://www.billboard.com/charts/hot-100/2012-01-09/', 'https://www.billboard.com/charts/hot-100/2012-01-02/', 'https://www.billboard.com/charts/hot-100/2011-12-25/', 'https://www.billboard.com/charts/hot-100/2011-12-18/', 'https://www.billboard.com/charts/hot-100/2011-12-11/', 'https://www.billboard.com/charts/hot-100/2011-12-04/', 'https://www.billboard.com/charts/hot-100/2011-11-27/', 'https://www.billboard.com/charts/hot-100/2011-11-20/', 'https://www.billboard.com/charts/hot-100/2011-11-13/', 'https://www.billboard.com/charts/hot-100/2011-11-06/', 'https://www.billboard.com/charts/hot-100/2011-10-30/', 'https://www.billboard.com/charts/hot-100/2011-10-23/', 'https://www.billboard.com/charts/hot-100/2011-10-16/', 'https://www.billboard.com/charts/hot-100/2011-10-09/', 'https://www.billboard.com/charts/hot-100/2011-10-02/', 'https://www.billboard.com/charts/hot-100/2011-09-25/', 'https://www.billboard.com/charts/hot-100/2011-09-18/', 'https://www.billboard.com/charts/hot-100/2011-09-11/', 'https://www.billboard.com/charts/hot-100/2011-09-04/', 'https://www.billboard.com/charts/hot-100/2011-08-28/', 'https://www.billboard.com/charts/hot-100/2011-08-21/', 'https://www.billboard.com/charts/hot-100/2011-08-14/', 'https://www.billboard.com/charts/hot-100/2011-08-07/', 'https://www.billboard.com/charts/hot-100/2011-07-31/', 'https://www.billboard.com/charts/hot-100/2011-07-24/', 'https://www.billboard.com/charts/hot-100/2011-07-17/', 'https://www.billboard.com/charts/hot-100/2011-07-10/', 'https://www.billboard.com/charts/hot-100/2011-07-03/', 'https://www.billboard.com/charts/hot-100/2011-06-26/', 'https://www.billboard.com/charts/hot-100/2011-06-19/', 'https://www.billboard.com/charts/hot-100/2011-06-12/', 'https://www.billboard.com/charts/hot-100/2011-06-05/', 'https://www.billboard.com/charts/hot-100/2011-05-29/', 'https://www.billboard.com/charts/hot-100/2011-05-22/', 'https://www.billboard.com/charts/hot-100/2011-05-15/', 'https://www.billboard.com/charts/hot-100/2011-05-08/', 'https://www.billboard.com/charts/hot-100/2011-05-01/', 'https://www.billboard.com/charts/hot-100/2011-04-24/', 'https://www.billboard.com/charts/hot-100/2011-04-17/', 'https://www.billboard.com/charts/hot-100/2011-04-10/', 'https://www.billboard.com/charts/hot-100/2011-04-03/']\n"
          ]
        }
      ]
    },
    {
      "cell_type": "markdown",
      "source": [
        "### **3. Parsing the HTML content:**"
      ],
      "metadata": {
        "id": "juuhdZVSt7_4"
      }
    },
    {
      "cell_type": "code",
      "source": [
        "songs = []\n",
        "artists = []\n",
        "\n",
        "for l in link[:50]:\n",
        "  result = requests.get(l)\n",
        "  source = result.content\n",
        "  soup = BeautifulSoup(source, 'lxml')\n",
        "  temp = soup.find_all('div', attrs={'class':'o-chart-results-list-row-container'})\n",
        "\n",
        "  for row in soup.find_all('li', attrs={'class':\"lrv-u-width-100p\"}):\n",
        "    song_name = row.h3\n",
        "    songs.append(song_name)\n",
        "    song_artist = row.span\n",
        "    artists.append(song_artist)\n"
      ],
      "metadata": {
        "id": "zA7YBgGe5M8T"
      },
      "execution_count": null,
      "outputs": []
    },
    {
      "cell_type": "code",
      "source": [
        "print(len(songs))\n",
        "print(len(artists))"
      ],
      "metadata": {
        "colab": {
          "base_uri": "https://localhost:8080/"
        },
        "id": "MbcT3RPq3hG3",
        "outputId": "862c62ea-5661-4af3-dc3c-5ab4fdcdb747"
      },
      "execution_count": null,
      "outputs": [
        {
          "output_type": "stream",
          "name": "stdout",
          "text": [
            "10000\n",
            "10000\n"
          ]
        }
      ]
    },
    {
      "cell_type": "code",
      "source": [
        "song = []\n",
        "artist = []\n",
        "for i in range(len(songs)):\n",
        "  if songs[i] == None:\n",
        "    continue\n",
        "  elif (songs[i].text.strip('\\n\\t')) in song:\n",
        "    continue\n",
        "  else:\n",
        "    song.append(songs[i].text.strip('\\n\\t'))\n",
        "    artist.append(artists[i].text.strip('\\n\\t'))\n",
        "\n"
      ],
      "metadata": {
        "id": "lu_ZWW9G3AoG"
      },
      "execution_count": null,
      "outputs": []
    },
    {
      "cell_type": "code",
      "source": [
        "print('Song names:',song)\n",
        "print('Artist name: ', artist)"
      ],
      "metadata": {
        "colab": {
          "base_uri": "https://localhost:8080/"
        },
        "id": "U595vYkX4de9",
        "outputId": "3e8f1bb5-b75f-458e-e017-ed8805d6d613"
      },
      "execution_count": null,
      "outputs": [
        {
          "output_type": "stream",
          "name": "stdout",
          "text": [
            "Song names: ['As It Was', 'Bad Habit', 'Late Night Talking', 'Sunroof', 'About Damn Time', 'I Like You (A Happier Song)', 'Super Freaky Girl', \"I Ain't Worried\", 'Running Up That Hill (A Deal With God)', 'You Proof', 'Wait For U', 'Me Porto Bonito', 'Titi Me Pregunto', 'The Kind Of Love We Make', 'Break My Soul', 'First Class', 'Wasted On You', 'Heat Waves', 'She Had Me At Heads Carolina', 'Vegas', 'Jimmy Cooks', 'Stay', 'Hold Me Closer', '5 Foot 9', 'Detox', 'Glimpse Of Us', 'Last Night Lonely', 'Moscow Mule', 'Big Energy', 'Staying Alive', 'Betty (Get Money)', 'Something In The Orange', 'Ghost', 'Shivers', 'In A Minute', 'Rock And A Hard Place', 'Left And Right', 'Efecto', 'Son Of A Sinner', 'Numb', 'Fall In Love', 'Talk', 'God Did', 'Provenza', 'Unstoppable', \"I'm Good (Blue)\", 'Numb Little Bug', 'Bones', 'Dah Dah DahDah', 'Victoria’s Secret', 'Gatubela', 'Die For You', 'Last Last', 'Truth About You', 'Hot Shit', 'Free Mind', 'Sleazy Flow', 'So Good', 'With A Woman You Love', 'Like I Love Country Music', 'Wishful Drinking', 'Party', 'Despecha', \"F.N.F. (Let's Go)\", 'Golden Hour', 'Ojitos Lindos', 'Pink Venom', 'Beat The Odds', 'Sticky', 'Pick Me Up', 'Whiskey On You', 'Despues de La Playa', 'Beautiful', 'She Likes It', 'Until I Found You', 'Ghost Story', 'Romantic Homicide', '2 Be Loved (Am I Ready)', 'Where It Ends', 'Alone', 'Neverita', 'All Mine', 'Tarot', 'What My World Spins Around', 'Half Of Me', 'La Bachata', 'Music For A Sushi Restaurant', \"Don't Come Lookin'\", 'Soul', 'Bad Decisions', 'Calm Down', 'Puffin On Zootiez', 'Snap', 'Hotel Lobby (Unc And Phew)', 'Bzrp Music Sessions, Vol. 52', 'Thought You Should Know', 'Country On', 'Static', 'Billie Eilish.', 'Sin Fin', 'Big Time', 'Cold Heart (PNAU Remix)', 'Use This Gospel (Remix)', 'Juice WRLD Did', 'Keep Going', \"It Ain't Safe\", 'No Secret', \"Let's Pray\", 'Alien Superstar', 'Wait In The Truck', 'La Corriente', 'Super Gremlin', 'At The End Of A Bar', 'Yungen', 'Cooped Up', 'Wild As Her', '54321', 'Un Ratito', 'Cuff It', 'Sweet Little Lies', '29', 'Vette Motors', 'Get Into It (Yuh)', 'Never Get Over Me', 'Sweetest Pie', 'Take My Name', 'Damn Strait', 'Forever', 'Her', 'Stone Rolling', 'No Deal', 'I Know It', 'Pressurelicious', 'Ungrateful', 'Pieces', 'Budget', 'Rockstar Heart', 'Plan B', 'Time Kills (Love Birds)', 'Fading', 'Church Girl', 'Umm Hmm', 'I Know', \"Home Ain't Home\", 'New Truck', 'Fuck Da Industry', \"Free Dem 5's\", 'Lost Soul Survivor', 'Energy', 'Hold Your Own', 'Top Sound', 'Never Sleep', 'Kamikaze', 'My Time', \"I'm That Girl\", 'Cozy', 'Big 14', 'Love Me More', '7 Days', 'Plastic Off The Sofa', \"Virgo's Groove\", 'Summer Renaissance', 'Heated', 'Thique', 'Move', 'Pure/Honey', 'America Has A Problem', 'All Up In Your Mind', 'Trouble With A Heartbreak', 'Thousand Miles', '2step', 'Massive', 'Best Thing Since Backroads', 'Boyfriend', 'Enemy', 'Thats What I Want', 'Woman', 'What Happened To Virgil', 'TV', 'Progress', 'The 30th', 'Silent Hill', \"See Wat I'm Sayin\", 'Love Lost', 'Cash In Cash Out', 'Te Felicito', 'Are You Entertained', 'Right On', 'Bad Habits', 'Master Of Puppets', 'Flower Shops', '7500 OBO', 'Bam Bam', 'Arson', 'Loose Change', 'Price Of Fame', \"When You're Gone\", 'Gravity', 'Hold My Hand', 'Rolling Stone', 'Circles Around This Town', 'To The Moon!', 'Ghetto Gatsby', 'Heal Your Heart (Interlude)', 'FYTB', 'Wasting Time', 'Good Love', 'More', 'Desesperados', 'U-Digg', 'Rich Minion', 'MAMIII', 'Carolina', 'Falling Back', 'Tomorrow Me', 'Late To Da Party (F*CK BET)', 'From The D 2 The LBC', 'Call Me Everyday', 'Psychic', 'WE (Warm Embrace)', 'Burglars & Murderers', 'Addicted', 'Texts Go Green', 'Did Shit To Me', 'Possessive', 'Die Young', 'Calling My Name', 'A Keeper', 'Currents', \"Flight's Booked\", 'Overdrive', 'Liability', 'AA', 'Down Hill', 'Tie That Binds', 'Yet To Come', 'N95', \"She's All I Wanna Be\", \"'Til You Can't\", 'If I Was A Cowboy', 'Run BTS', 'Distraction', 'Die Hard', 'Freaky Deaky', 'True Love', 'DFMU', 'Matilda', 'Yo No Soy Celoso', 'Daylight', 'Slow Down Summer', 'Potion', 'Wrapped Around Your Finger', 'One Right Now', 'I Cannot Be (A Sadder Song)', 'Lemon Tree', 'Reputation', 'Wasting Angels', 'Insane', 'Love/Hate Letter To Alcohol', 'Little Freak', 'Grapejuice', 'Satellite', \"When I'm Alone\", 'Euthanasia', 'Never Say Never', 'Cinema', 'Keep Driving', 'Daydreaming', 'Love Of My Life', 'Rich Spirit', 'Boyfriends', 'Dua Lipa', 'Handsomer', \"I'm On One\", 'Andrea', 'Love You Better', 'Wild Hearts', 'Father Time', 'Count Me Out', 'United In Grief', 'Me Or Sum', 'Pushin P', 'Never Wanted To Be That Girl', 'No Love', 'Savior', 'Aguacero', 'Un Coco', 'Otro Atardecer', 'We Cry Together', 'Dos Mil 16', 'Hate Our Love', 'Worldwide Steppers', 'Purple Hearts', 'Rich (Interlude)', 'Mr. Morale', 'Crown', 'Auntie Diaries', 'Savior (Interlude)', \"Doin' This\", 'Mirror', 'Mother I Sober', 'The Heart Part 5', 'Churchill Downs', 'El Apagon', '712PM', \"Don't Think Jesus\", 'The Motto', 'Me Fui de Vacaciones', 'Ensename A Bailar', 'Flowers', 'abcdefu', 'Industry Baby', 'Easy On Me', 'Need To Know', \"This Love (Taylor's Version)\", 'Un Verano Sin Ti', 'Hrs And Hrs', 'Nail Tech', \"We Don't Talk About Bruno\", 'Agosto', \"I'm Dat N***a\", 'Peru', 'Massaging Me', \"I'd Do Anything To Make You Smile\", 'Beers On Me', 'Fingers Crossed', 'Frozen', 'Young Harleezy', '23', 'Poison', 'Honest', 'Keep It Burnin', 'For A Nut', 'Chickens', 'Gold Stacks', 'Voodoo', 'We Jus Wanna Get High', 'Holy Ghost', 'Good 4 U', 'Back To The Basics', 'The Way Things Going', 'Give Heaven Some Hell', 'That That', 'Broadway Girls', 'In The Stars', 'Surface Pressure', 'Light Switch', 'I Love You So', 'Envolver', 'Do We Have A Problem?', 'Ahhh Ha', 'Rumors', 'Over', 'Shake It', 'Save Your Tears', 'Levitating', 'I Hate U', 'You Right', 'Fancy Like', 'Sand In My Boots', 'Hold That Heat', 'Scrape It Off', 'Neck & Wrist', 'Rock N Roll', 'Dreamin Of The Past', 'In My Head', 'Soy El Unico', 'Leave You Alone', 'Out Of Time', 'Banking On Me', 'Come Back As A Country Boy', 'City Of Gods', 'Brambleton', 'Buy Dirt', 'Heart On Fire', 'Nobody Like U', 'GINE', 'Complete Mess', 'Pressure', 'The Family Madrigal', 'Dos Oruguitas', 'P Power', 'Money So Big', 'Blick Blick!', 'X Ultima Vez', \"Drunk (And I Don't Wanna Go Home)\", 'London', 'Psychofreak', 'Thump Shit', 'Treat Me', 'To Be Loved By You', 'Thinking With My Dick', 'Praise The Lord', 'Love Nwantiti (Ah Ah Ah)', 'Stick', 'Make Up Sex', 'Petty Too', 'I Hate YoungBoy', 'What Else Can I Do?', \"Tom's Diner\", 'By Your Side', '4KT Baby', 'Blood All On It', 'We Go Up', 'Maybe', 'Chaotic', 'Emo Girl', 'High', 'Ay!', 'Sigue', 'Half Of My Hometown', 'No Interviews', 'Closer', 'Beautiful Lies', 'Knife Talk', 'Sometimes', 'Computer Murderers', 'Smokin Out The Window', 'Barbarian', 'Golden Child', 'Smoking & Thinking', \"I'm Tired\", 'IDGAF', 'Waiting On A Miracle', 'Something In The Way', 'Shootout @ My Crib', 'Started From', 'Headtaps', 'Grow Up/Keep It On Speaker', 'Blocklist', 'Difference Is', 'Sacrifice', 'Federal Nightmares', 'Rocking A Cardigan In Atlanta', 'Pissed Me Off', 'Essence', 'You Should Probably Leave', 'One Mississippi', 'Meet Me At Our Spot', \"Don't Play That\", 'Publicity Stunt', 'War', 'Oh My God', 'Neighborhood Superstar', 'Facetime', 'Straight To It', 'Cigarettes', 'Do It To It', 'Evil Twins', 'Trust Nothing', 'Iffy', \"When I'm Gone\", 'Better Days', 'Still D.R.E.', 'The Joker And The Queen', 'Usain Boo', 'Worst Day', 'Scorpio', 'All Of You', 'I Wish', 'Home Sweet', 'Bussin', 'Good Morning Gorgeous', 'Who Want Smoke??', 'Freedom Was A Highway', 'Poppin', 'Pray', 'Cold December', \"All Too Well (Taylor's Version)\", 'The Next Episode', 'Lose Yourself', 'Chosen', 'For Tonight', 'Whiskey And Rain', 'Stay Alive', 'Too Easy', 'Kiss Me More', \"Thinking 'Bout You\", \"Message In A Bottle (Taylor's Version) (From The Vault)\", 'Scared Money', 'Black Summer', 'Doja', 'Fair Trade', \"Megan's Piano\", 'Moth To A Flame', \"If I Didn't Love You\", \"Johnny P's Caddy\", 'No Switch', 'Take My Breath', 'Shotta Flow 6', 'Vice City', 'Infinity', 'Eazy', 'Fish Scale', 'Colombia, Mi Encanto', 'Happier Than Ever', 'Bring It On', 'Bring The Hook', \"Flossin'\", 'Proud', 'Know Like I Know', 'Have Mercy', '2Hoo', 'Long Live', 'Thought I Was Playing', 'Dis & That', '25k Jacket', 'Baddest', 'Smoke One', 'I Am Woman', 'Way 2 Sexy', 'Girls Want Girls', 'How You Did That', 'Poochie Gown', 'Is There Someone Else?', 'Mop', 'Gasoline', 'Alotta Cake', 'Surround Sound', 'Less Than Zero', 'My Universe', 'IDK That Bitch', 'Same Boat', 'Livin Wild', 'How Do I Make You Love Me?', 'Here We Go... Again', 'Best Friends', \"I Heard You're Married\", 'Dawn FM', 'Private Island', 'South To West', 'You & Me', 'Starry Eyes', \"Don't Break My Heart\", 'Flooded', 'Die Alone', 'Every Angel Is Terrifying', 'Tequila Little Time', \"Beggin'\", 'Montero (Call Me By Your Name)', 'Pepas', 'Leave The Door Open', 'Chasing After You', 'Life Goes On', 'Poke It Out', 'Burn', 'Bubbly', 'Family Ties', 'Volvi', 'Come Through', 'Wandered To LA.', 'Already Dead', 'Black Ball', 'Bad Man (Smooth Criminal)', 'Just About Over You', 'All I Want For Christmas Is You', \"Rockin' Around The Christmas Tree\", 'Jingle Bell Rock', 'A Holly Jolly Christmas', \"It's The Most Wonderful Time Of The Year\", 'Feliz Navidad', 'Last Christmas', \"It's Beginning To Look A Lot Like Christmas\", 'Sleigh Ride', 'The Christmas Song (Merry Christmas To You)', 'Underneath The Tree', 'Christmas (Baby Please Come Home)', 'Santa Tell Me', 'Rudolph The Red-Nosed Reindeer', 'White Christmas', 'Run Rudolph Run', 'Happy Holiday / The Holiday Season', \"(There's No Place Like) Home For The Holidays\", 'Let It Snow, Let It Snow, Let It Snow', 'Jingle Bells', 'Christmastime Is Here', 'Santa Baby', 'Pick Out A Christmas Tree', 'Merry Christmas', 'Christmas Tree Farm (Old Timey Version)', \"I'll Be Home For Christmas\", 'Christmas Tree', \"Christmas Isn't Canceled (Just You)\", \"You're A Mean One, Mr. Grinch\", 'Wonderful Christmastime', 'Linus & Lucy', 'Please Come Home For Christmas', \"Santa Claus Is Comin' To Town\", 'Little Saint Nick', 'Mistletoe', 'Deck The Halls', 'Have Yourself A Merry Little Christmas', '25 Million', 'Moved To Miami', 'Hibachi', 'Thailand', 'Knowing You', 'Girl Of My Dreams', 'Feline', 'Rockstar In His Prime', \"You Wouldn't Understand\", 'Cold As You', 'Doom', 'Go Hard', 'Not Enough', 'Man In The Mirror', 'From My Window', 'Relocate', 'Feel Alone', \"Don't Play\", 'Gyalis', 'Sharing Locations', 'Young N Dumb', 'Start Up Again', \"Memory I Don't Mess With\", 'Mercedes', 'Partin Ways', 'Wild Side', 'My Little Love', 'Can I Get It', 'I Drink Wine', 'Always Been You', \"Who's In Your Head\", 'Maybach', 'Ex For A Reason', 'To Be Loved', 'Strangers By Nature', 'Cry Your Heart Out', 'Hold On', 'All Night Parking (Interlude)', 'Woman Like Me', 'Love Is A Game', \"I Bet You Think About Me (Taylor's Version) (From The Vault)\", \"God's Country\", 'Sad Girlz Luv Money', \"Red (Taylor's Version)\", \"State Of Grace (Taylor's Version)\", 'Escape Plan', 'Jugaste y Sufri', \"Nothing New (Taylor's Version) (From The Vault)\", \"I Knew You Were Trouble (Taylor's Version)\", \"Run (Taylor's Version) (From The Vault)\", \"Better Man (Taylor's Version) (From The Vault)\", \"22 (Taylor's Version)\", \"Treacherous (Taylor's Version)\", \"We Are Never Ever Getting Back Together (Taylor's Version)\", \"I Almost Do (Taylor's Version)\", \"The Very First Night (Taylor's Version) (From The Vault)\", \"Everything Has Changed (Taylor's Version)\", \"The Last Time (Taylor's Version)\", \"Stay Stay Stay (Taylor's Version)\", 'After Last Night', \"Babe (Taylor's Version) (From The Vault)\", 'Blast Off', 'Skate', \"Holy Ground (Taylor's Version)\", \"Begin Again (Taylor's Version)\", 'Put On A Smile', \"Forever Winter (Taylor's Version) (From The Vault)\", 'Fly As Me', \"The Moment I Knew (Taylor's Version)\", \"The Lucky One (Taylor's Version)\", \"Sad Beautiful Tragic (Taylor's Version)\", \"Come Back...Be Here (Taylor's Version)\", \"Starlight (Taylor's Version)\", 'La Fama', 'Bitter', 'Mafia', 'Traitor', 'Throw It Away', 'Reciprocate', 'Toxic', 'Unloyal', 'Constant Bulls**t', \"You Don't Know Me\", 'Circus', '4th Baby Mama', 'Switch A N*gga Out', 'Closure', 'I Was On A Boat That Day', 'Memory', 'Session 33', 'A-O-K', 'Screwin', 'Broken Promises', 'Dat Right There', 'Overpass Graffiti', 'Hurricane', 'Cold Beer Calling My Name', 'Jumpin', 'Praise God', '2055', 'Thriller', 'Monster Mash', 'Wockesha', 'Ghostbusters', \"Somebody's Watching Me\", 'Demon High', 'Love Again', 'My Boy', 'Rap Freaks', 'Eat It', 'Esta Danada', 'Whole Lotta Money', 'Switches & Dracs', 'Lo Siento BB:/', 'Ya Superame (En Vivo Desde Culiacan, Sinaloa)', 'Money', 'WFM', 'Lets Go Brandon', \"Let's Go Brandon\", 'Ghost Town', 'Not In The Mood', 'Thot Shit', 'Like A Lady', 'No Friends In The Industry', 'In The Bible', \"Ain't Shit\", 'Nevada', 'Leave Before You Love Me', 'Deja Vu', 'Late At Night', 'Livin It Up', 'Stressed', 'Rich N***a Shit', 'Yonaguni', 'Champagne Poetry', 'Let Somebody Go', 'You Time', 'Peepin Out The Window', 'Woo Baby', 'Flocky Flocky', 'Peaches', 'Todo de Ti', \"Drinkin' Beer. Talkin' God. Amen.\", 'Your Heart', 'Summer Of Love', 'Waves', 'Life Support', 'Bad Morning', 'Intro (Hate On Me)', 'Butter', 'Hot', 'Expensive Pain', 'On My Soul', 'Blue Note$ II', 'Outside (100 MPH)', 'Last One Standing', 'The Feels', 'Me (FWM)', 'Love Train', 'Feelin Like Tunechi', 'Ride For You', 'TSU', 'Love All', 'No Where']\n",
            "Artist name:  ['Harry Styles', 'Steve Lacy', 'Harry Styles', 'Nicky Youre & dazy', 'Lizzo', 'Post Malone Featuring Doja Cat', 'Nicki Minaj', 'OneRepublic', 'Kate Bush', 'Morgan Wallen', 'Future Featuring Drake & Tems', 'Bad Bunny & Chencho Corleone', 'Bad Bunny', 'Luke Combs', 'Beyonce', 'Jack Harlow', 'Morgan Wallen', 'Glass Animals', 'Cole Swindell', 'Doja Cat', 'Drake Featuring 21 Savage', 'The Kid LAROI & Justin Bieber', 'Elton John & Britney Spears', 'Tyler Hubbard', 'Lil Baby', 'Joji', 'Jon Pardi', 'Bad Bunny', 'Latto', 'DJ Khaled Featuring Drake & Lil Baby', 'Yung Gravy', 'Zach Bryan', 'Justin Bieber', 'Ed Sheeran', 'Lil Baby', 'Bailey Zimmerman', 'Charlie Puth Featuring Jung Kook', 'Bad Bunny', 'Jelly Roll', 'Marshmello & Khalid', 'Bailey Zimmerman', 'Yeat', 'DJ Khaled Featuring Rick Ross, Lil Wayne, JAY-Z, John Legend & Fridayy', 'Karol G', 'Sia', 'David Guetta & Bebe Rexha', 'Em Beihold', 'Imagine Dragons', 'Nardo Wick', 'Jax', 'Karol G x Maldy', 'The Weeknd', 'Burna Boy', 'Mitchell Tenpenny', 'Cardi B, Ye & Lil Durk', 'Tems', 'SleazyWorld Go Featuring Lil Baby', 'Halsey', 'Justin Moore', 'Kane Brown', 'Ingrid Andress With Sam Hunt', 'Bad Bunny & Rauw Alejandro', 'Rosalia', 'Hitkidd & GloRilla', 'JVKE', 'Bad Bunny & Bomba Estereo', 'BLACKPINK', 'Lil Tjay', 'Drake', 'Gabby Barrett', 'Nate Smith', 'Bad Bunny', 'DJ Khaled Featuring Future & SZA', 'Russell Dickerson & Jake Scott', 'Stephen Sanchez', 'Carrie Underwood', 'd4vd', 'Lizzo', 'Bailey Zimmerman', 'Rod Wave', 'Bad Bunny', 'Brent Faiyaz', 'Bad Bunny & Jhay Cortez', 'Jordan Davis', 'Thomas Rhett Featuring Riley Green', 'Manuel Turizo', 'Harry Styles', 'Jackson Dean', 'Lee Brice', 'benny blanco, BTS & Snoop Dogg', 'Rema & Selena Gomez', 'Future', 'Rosa Linn', 'Quavo & Takeoff', 'Bizarrap & Quevedo', 'Morgan Wallen', 'Luke Bryan', 'Steve Lacy', 'Armani White', 'Romeo Santos & Justin Timberlake', 'DJ Khaled Featuring Future & Lil Baby', 'Elton John & Dua Lipa', 'DJ Khaled Featuring Kanye West & Eminem', 'DJ Khaled Featuring Juice WRLD', 'DJ Khaled Featuring Lil Durk, 21 Savage & Roddy Ricch', 'DJ Khaled Featuring Nardo Wick & Kodak Black', 'DJ Khaled Featuring Drake', 'DJ Khaled Featuring Don Toliver & Travis Scott', 'Beyonce', 'HARDY Featuring Lainey Wilson', 'Bad Bunny & Tony Dize', 'Kodak Black', 'Chris Young With Mitchell Tenpenny', 'Rod Wave Featuring Jack Harlow', 'Post Malone Featuring Roddy Ricch', 'Corey Kent', 'Offset', 'Bad Bunny', 'Beyonce', 'Rod Wave', 'Demi Lovato', 'YoungBoy Never Broke Again', 'Doja Cat', 'Rod Wave', 'Megan Thee Stallion & Dua Lipa', 'Parmalee', 'Scotty McCreery', 'Rod Wave', 'Megan Thee Stallion', 'Rod Wave', 'Rod Wave', 'Rod Wave', 'Megan Thee Stallion Featuring Future', 'Megan Thee Stallion Featuring Key Glock', 'Rod Wave', 'Megan Thee Stallion Featuring Latto', 'Rod Wave', 'Megan Thee Stallion', 'Rod Wave', 'Rod Wave', 'Beyonce', 'YoungBoy Never Broke Again', 'YoungBoy Never Broke Again', 'YoungBoy Never Broke Again Featuring Rod Wave', 'Dylan Scott', 'YoungBoy Never Broke Again', 'YoungBoy Never Broke Again', 'YoungBoy Never Broke Again', 'Beyonce Featuring BEAM', 'YoungBoy Never Broke Again', 'YoungBoy Never Broke Again', 'NAV, Travis Scott & Lil Baby', 'YoungBoy Never Broke Again', 'YoungBoy Never Broke Again', 'Beyonce', 'Beyonce', 'Trippie Redd, Moneybagg Yo & Offset', 'Sam Smith', 'YoungBoy Never Broke Again', 'Beyonce', 'Beyonce', 'Beyonce', 'Beyonce', 'Beyonce', 'Beyonce Featuring Grace Jones & Tems', 'Beyonce', 'Beyonce', 'Beyonce', 'Jason Aldean', 'The Kid LAROI', 'Ed Sheeran Featuring Lil Baby', 'Drake', 'Jake Owen', 'Dove Cameron', 'Imagine Dragons X JID', 'Lil Nas X', 'Doja Cat', 'Lil Durk Featuring Gunna', 'Billie Eilish', 'John Rich', 'Billie Eilish', 'Kendrick Lamar & Kodak Black', 'Moneybagg Yo', 'Mac Miller', 'Pharrell Williams Featuring 21 Savage & Tyler, The Creator', 'Shakira & Rauw Alejandro', 'Russ & Ed Sheeran', 'Lil Baby', 'Ed Sheeran', 'Metallica', 'ERNEST Featuring Morgan Wallen', 'Tim McGraw', 'Camila Cabello Featuring Ed Sheeran', 'j-hope', 'Brent Faiyaz', 'Brent Faiyaz', 'Shawn Mendes', 'Brent Faiyaz & DJ Dahi Featuring Tyler, The Creator', 'Lady Gaga', 'Brent Faiyaz', 'Maren Morris', 'JNR CHOI & Sam Tompkins', 'Brent Faiyaz Featuring Alicia Keys', 'Brent Faiyaz', 'Brent Faiyaz Featuring Joony', 'Brent Faiyaz Featuring Drake', 'City Girls & Usher', 'j-hope', 'Rauw Alejandro & Chencho Corleone', 'Lil Baby, 42 Dugg & Veeze', 'Yeat', 'Becky G X Karol G', 'Taylor Swift', 'Drake', 'Luke Combs', 'Lil Nas X & Youngboy Never Broke Again', 'Eminem & Snoop Dogg', 'Chris Brown Featuring WizKid', 'Chris Brown Featuring Jack Harlow', 'Chris Brown', 'Lil Durk Featuring EST Gee', 'Chris Brown Featuring Lil Baby', 'Drake', 'Lil Durk Featuring Doodie Lo', 'Chris Brown Featuring Lil Wayne & BLEU', 'Sleepy Hallow Featuring 347aidan', 'Drake', 'Drake', 'Drake', 'Drake', 'Drake', 'Drake', 'Walker Hayes', 'Drake', 'Drake', 'BTS', 'Kendrick Lamar', 'Tate McRae', 'Cody Johnson', 'Miranda Lambert', 'BTS', 'Polo G', 'Kendrick Lamar, Blxst & Amanda Reifer', 'Tyga X Doja Cat', 'Kanye West & XXXTENTACION', 'Ella Mai', 'Harry Styles', 'Bad Bunny', 'Harry Styles', 'Thomas Rhett', 'Calvin Harris, Dua Lipa & Young Thug', 'Post Malone', 'Post Malone & The Weeknd', 'Post Malone Featuring Gunna', 'Post Malone', 'Post Malone', 'Post Malone Featuring The Kid LAROI', 'Post Malone', 'Post Malone Featuring Fleet Foxes', 'Harry Styles', 'Harry Styles', 'Harry Styles', 'Post Malone', 'Post Malone', 'Cole Swindell / Lainey Wilson', 'Harry Styles', 'Harry Styles', 'Harry Styles', 'Harry Styles', 'Kendrick Lamar', 'Harry Styles', 'Jack Harlow', 'Russ Featuring Ktlyn', 'Future Featuring Drake', 'Bad Bunny & Buscabulla', 'Future', 'Keith Urban', 'Kendrick Lamar Featuring Sampha', 'Kendrick Lamar', 'Kendrick Lamar', 'Nardo Wick, Lil Baby & Future', 'Gunna & Future Featuring Young Thug', 'Carly Pearce & Ashley McBryde', 'Summer Walker & SZA', 'Kendrick Lamar, Baby Keem, & Sam Dew', 'Bad Bunny', 'Bad Bunny', 'Bad Bunny & The Marias', 'Kendrick Lamar & Taylour Paige', 'Bad Bunny', 'Queen Naija & Big Sean', 'Kendrick Lamar', 'Kendrick Lamar, Summer Walker & Ghostface Killah', 'Kendrick Lamar', 'Kendrick Lamar & Tanna Leone', 'Kendrick Lamar', 'Kendrick Lamar', 'Kendrick Lamar', 'Luke Combs', 'Kendrick Lamar', 'Kendrick Lamar Featuring Beth Gibbons', 'Kendrick Lamar', 'Jack Harlow Featuring Drake', 'Bad Bunny', 'Future', 'Morgan Wallen', 'Tiesto & Ava Max', 'Bad Bunny', 'Bad Bunny', 'Lauren Spencer-Smith', 'GAYLE', 'Lil Nas X & Jack Harlow', 'Adele', 'Doja Cat', 'Taylor Swift', 'Bad Bunny', 'Muni Long', 'Jack Harlow', 'Carolina Gaitan, Mauro Castillo, Adassa, Rhenzy Feliz, Diane Guerrero, Stephanie Beatriz & Encanto Cast', 'Bad Bunny', 'Future', 'Fireboy DML & Ed Sheeran', 'Future', 'Jack Harlow', 'Dierks Bentley, BRELAND & HARDY', 'Lauren Spencer-Smith', 'Lil Baby', 'Jack Harlow', 'Sam Hunt', 'Jack Harlow Featuring Lil Wayne', 'Justin Bieber & Don Toliver', 'Future Featuring Kanye West', 'Future Featuring Gunna & Young Thug', 'Future Featuring EST Gee', 'Future', 'Future Featuring Kodak Black', 'Future', 'Future', 'Olivia Rodrigo', 'Future', 'Future', 'HARDY', 'PSY Featuring SUGA', 'Lil Durk Featuring Morgan Wallen', 'Benson Boone', 'Jessica Darrow', 'Charlie Puth', 'The Walters', 'Anitta', 'Nicki Minaj X Lil Baby', 'Lil Durk', 'Gucci Mane Featuring Lil Durk', 'Lucky Daye', 'Kay Flock, Cardi B, Dougie B & Bory300', 'The Weeknd & Ariana Grande', 'Dua Lipa', 'SZA', 'Doja Cat & The Weeknd', 'Walker Hayes', 'Morgan Wallen', 'Southside, Travis Scott & Future', 'Pusha T Featuring Lil Uzi Vert & Don Toliver', 'Pusha T Featuring JAY-Z & Pharrell Williams', 'Pusha T Featuring Kanye West & Kid Cudi', 'Pusha T Featuring Kanye West', 'Lil Tjay', 'Yahritza y Su Esencia', 'Kane Brown', 'The Weeknd', 'Gunna', 'Blake Shelton', 'Fivio Foreign, Kanye West & Alicia Keys', 'Pusha T', 'Jordan Davis Featuring Luke Bryan', 'Eric Church', \"4*TOWN (From Disney And Pixar's Turning Red)\", '6ix9ine', '5 Seconds Of Summer', 'Ari Lennox', 'Stephanie Beatriz, Olga Merediz & Encanto Cast', 'Sebastian Yatra', 'Gunna Featuring Drake', 'Yeat', 'Coi Leray & Nicki Minaj', 'Daddy Yankee & Bad Bunny', 'Elle King & Miranda Lambert', 'BIA Featuring J. Cole', 'Camila Cabello Featuring WILLOW', '42 Dugg & EST Gee', 'Chloe', 'Parker McCollum', 'Kevin Gates Featuring Juicy J', 'BRELAND Featuring Thomas Rhett', 'CKay', 'JID & J. Cole Featuring Kenny Mason & Sheck Wes', 'Machine Gun Kelly X blackbear', 'Lil Durk Featuring Future', 'YoungBoy Never Broke Again', 'Diane Guerrero & Stephanie Beatriz', 'AnnenMayKantereit & Giant Rooks', 'Rod Wave', 'YoungBoy Never Broke Again', 'Gucci Mane Featuring Key Glock & Young Dolph', 'Nicki Minaj & Fivio Foreign', 'Machine Gun Kelly & Bring Me The Horizon', 'Tate McRae', 'Machine Gun Kelly & WILLOW', 'The Chainsmokers', 'Machine Gun Kelly & Lil Wayne', 'J Balvin & Ed Sheeran', 'Kelsea Ballerini Featuring Kenny Chesney', 'Lil Durk', 'Saweetie Featuring H.E.R.', 'Yung Bleu & Kehlani', 'Drake Featuring 21 Savage & Project Pat', 'Juice WRLD', 'Lil Durk', 'Silk Sonic (Bruno Mars & Anderson .Paak)', 'Lil Durk', 'Lil Durk', 'Lil Durk', 'Labrinth & Zendaya', 'BoyWithUke X blackbear', 'Stephanie Beatriz', 'Nirvana', 'Lil Durk', 'Lil Durk', 'Lil Durk', 'Lil Durk', 'Lil Durk', 'Lil Durk Featuring Summer Walker', 'The Weeknd', 'Lil Durk', 'Lil Shordie Scott', 'Lil Durk', 'Wizkid Featuring Justin Bieber & Tems', 'Chris Stapleton', 'Kane Brown', 'THE ANXIETY: WILLOW & Tyler Cole', 'King Von & 21 Savage', 'Gucci Mane', 'King Von', 'Adele', 'DaBaby & YoungBoy Never Broke Again', 'King Von Featuring G Herbo', 'King Von Featuring Fivio Foreign', 'Juice WRLD', 'Acraze Featuring Cherish', 'King Von & Lil Durk', 'King Von Featuring Moneybagg Yo', 'Chris Brown', 'Alesso / Katy Perry', 'NEIKED X Mae Muller X Polo G', 'Dr. Dre Featuring Snoop Dogg', 'Ed Sheeran Featuring Taylor Swift', 'Kodak Black', 'Future', 'Moneybagg Yo', 'Stephanie Beatriz, Olga Merediz, John Leguizamo, Adassa, Maluma & Encanto Cast', 'Kodak Black', 'Russell Dickerson', 'Nicki Minaj X Lil Baby', 'Mary J. Blige', 'Nardo Wick Featuring G Herbo, Lil Durk & 21 Savage', 'Jimmie Allen & Brad Paisley', 'Yeat', 'Jessie Murph', 'Rod Wave', 'Taylor Swift', 'Dr. Dre Featuring Snoop Dogg', 'Eminem', 'Blxst & Tyga Featuring Ty Dolla $ign', 'Giveon', 'Michael Ray', 'Jung Kook', 'Gunna & Future', 'Doja Cat Featuring SZA', 'Dustin Lynch Featuring Lauren Alaina Or MacKenzie Porter', 'Taylor Swift', 'YG Featuring J. Cole & Moneybagg Yo', 'Red Hot Chili Peppers', '$NOT & A$AP Rocky', 'Drake Featuring Travis Scott', 'Megan Thee Stallion', 'Swedish House Mafia & The Weeknd', 'Jason Aldean & Carrie Underwood', 'Benny The Butcher & J. Cole', 'YoungBoy Never Broke Again', 'The Weeknd', 'NLE Choppa', 'XXXTENTACION', 'Jaymes Young', 'The Game & Kanye West', 'YoungBoy Never Broke Again', 'Carlos Vives', 'Billie Eilish', 'YoungBoy Never Broke Again', 'YoungBoy Never Broke Again', 'Internet Money Featuring YoungBoy Never Broke Again', 'Key Glock', 'YoungBoy Never Broke Again', 'Chloe', 'YoungBoy Never Broke Again', 'YoungBoy Never Broke Again', 'Gunna & 21 Savage', 'YoungBoy Never Broke Again', 'Gunna Featuring Lil Baby', 'Yung Bleu, Chris Brown & 2 Chainz', 'YoungBoy Never Broke Again', 'Emmy Meli', 'Drake Featuring Future & Young Thug', 'Drake Featuring Lil Baby', 'Gunna Featuring Kodak Black', 'Gunna', 'The Weeknd', 'Gunna Featuring Young Thug', 'The Weeknd', 'Gunna', 'JID Featuring 21 Savage & Baby Tate', 'The Weeknd', 'Coldplay x BTS', 'Gunna Featuring G Herbo', 'Zac Brown Band', 'Gunna', 'The Weeknd', 'The Weeknd Featuring Tyler, The Creator', 'The Weeknd', 'The Weeknd Featuring Lil Wayne', 'The Weeknd', 'Gunna', 'Gunna', 'Gunna & Chloe', 'The Weeknd', 'The Weeknd', 'Gunna', 'Gunna & Chris Brown Featuring Yung Bleu', 'The Weeknd', 'Jon Pardi', 'Maneskin', 'Lil Nas X', 'Farruko', 'Silk Sonic (Bruno Mars & Anderson .Paak)', 'Ryan Hurd With Maren Morris', 'Oliver Tree', 'Wale Featuring J. Cole', 'Juice WRLD', 'Young Thug With Drake & Travis Scott', 'Baby Keem & Kendrick Lamar', 'Aventura x Bad Bunny', 'H.E.R. Featuring Chris Brown', 'Juice WRLD & Justin Bieber', 'Juice WRLD', 'YoungBoy Never Broke Again & Birdman', 'Polo G', 'Priscilla Block', 'Mariah Carey', 'Brenda Lee', 'Bobby Helms', 'Burl Ives', 'Andy Williams', 'Jose Feliciano', 'Wham!', 'Perry Como And The Fontane Sisters With Mitchell Ayres And His Orchestra', 'The Ronettes', 'Nat King Cole', 'Kelly Clarkson', 'Darlene Love', 'Ariana Grande', 'Gene Autry', 'Bing Crosby', 'Chuck Berry', 'Andy Williams', 'Perry Como', 'Dean Martin', 'Frank Sinatra', 'Vince Guaraldi Trio', 'Eartha Kitt With Henri Rene And His Orchestra', 'Dan + Shay', 'Ed Sheeran & Elton John', 'Taylor Swift', 'Camila Cabello', 'V', 'Kelly Clarkson', 'Thurl Ravenscroft', 'Paul McCartney', 'Vince Guaraldi Trio', 'Eagles', 'Jackson 5', 'The Beach Boys', 'Justin Bieber', 'Nat King Cole', 'Michael Buble', 'Roddy Ricch', 'Roddy Ricch Featuring Lil Baby', 'Roddy Ricch Featuring Kodak Black & 21 Savage', 'Roddy Ricch', 'Kenny Chesney', 'Juice WRLD & SUGA', 'Juice WRLD, Polo G & Trippie Redd', 'Juice WRLD', 'Juice WRLD', 'Luke Combs', 'Juice WRLD', 'Juice WRLD', 'Juice WRLD', 'A Boogie Wit da Hoodie', 'Juice WRLD', 'Juice WRLD', 'Juice WRLD', 'Polo G Featuring Lil Baby', 'Capella Grey', 'Meek Mill Featuring Lil Baby & Lil Durk', 'Polo G', 'Polo G Featuring Moneybagg Yo', 'Lee Brice', 'Brent Faiyaz', 'Polo G', 'Normani Featuring Cardi B', 'Adele', 'Adele', 'Adele', 'Jessie Murph', 'Jonas Brothers', '42 Dugg Featuring Future', 'Summer Walker & JT', 'Adele', 'Adele', 'Adele', 'Adele', 'Adele With Erroll Garner', 'Adele', 'Adele', 'Taylor Swift Featuring Chris Stapleton', 'State Of Mine & Drew Jacobs', 'Amaarae & Moliy Featuring Kali Uchis', 'Taylor Swift', 'Taylor Swift', 'Travis Scott', 'Eslabon Armado Featuring DannyLux', 'Taylor Swift Featuring Phoebe Bridgers', 'Taylor Swift', 'Taylor Swift Featuring Ed Sheeran', 'Taylor Swift', 'Taylor Swift', 'Taylor Swift', 'Taylor Swift', 'Taylor Swift', 'Taylor Swift', 'Taylor Swift Featuring Ed Sheeran', 'Taylor Swift Featuring Gary Lightbody Of Snow Patrol', 'Taylor Swift', 'Silk Sonic (Bruno Mars & Anderson .Paak) With Thundercat & Bootsy Collins', 'Taylor Swift', 'Silk Sonic (Bruno Mars & Anderson .Paak)', 'Silk Sonic (Bruno Mars & Anderson .Paak)', 'Taylor Swift', 'Taylor Swift', 'Silk Sonic (Bruno Mars & Anderson .Paak)', 'Taylor Swift', 'Silk Sonic (Bruno Mars & Anderson .Paak)', 'Taylor Swift', 'Taylor Swift', 'Taylor Swift', 'Taylor Swift', 'Taylor Swift', 'Rosalia Featuring The Weeknd', 'Summer Walker & Cardi B', 'Travis Scott', 'Olivia Rodrigo', 'Summer Walker', 'Summer Walker', 'Summer Walker Featuring Lil Durk', 'Summer Walker & Ari Lennox', 'Summer Walker', 'Summer Walker', 'Summer Walker', 'Summer Walker', 'Summer Walker', 'Summer Walker', 'Old Dominion', 'Kane Brown X blackbear', 'Summer Walker', 'Tai Verdes', 'Summer Walker & Omarion', 'Summer Walker', 'Summer Walker, Pharrell Williams & The Neptunes', 'Ed Sheeran', 'Kanye West', 'Jameson Rodgers Featuring Luke Combs', 'NLE Choppa Featuring Polo G', 'Kanye West', 'Sleepy Hallow', 'Michael Jackson', 'Bobby \"Boris\" Pickett And The Crypt-Kickers', 'Moneybagg Yo', 'Ray Parker Jr.', 'Rockwell', 'Lil Uzi Vert', 'Dua Lipa', 'Elvie Shane', 'Yung Miami', 'Megan Thee Stallion', 'Ivan Cornejo', 'BIA Featuring Nicki Minaj', 'Moneybagg Yo Featuring Lil Durk & EST Gee', 'Tainy, Bad Bunny & Julieta Venegas', 'Grupo Firme', 'Lisa', 'RealestK', 'Loza Alexander', 'Bryson Gray Featuring Tyson James & Chandler Crump', 'Benson Boone', 'Lil Tjay, Fivio Foreign & Kay Flock', 'Megan Thee Stallion', 'Lady A', 'Drake', 'Drake Featuring Lil Durk & Giveon', 'Doja Cat', 'YoungBoy Never Broke Again', 'Marshmello X Jonas Brothers', 'Olivia Rodrigo', 'Roddy Ricch', 'Young Thug With Post Malone & A$AP Rocky', 'Young Thug With J. Cole & T-Shyne', 'Young Thug With Juice WRLD', 'Bad Bunny', 'Drake', 'Coldplay X Selena Gomez', 'Scotty McCreery', 'Young Thug With Future & BSlime', 'Pop Smoke Featuring Chris Brown', 'Don Toliver Featuring Travis Scott', 'Justin Bieber Featuring Daniel Caesar & Giveon', 'Rauw Alejandro', 'Chase Rice Featuring Florida Georgia Line', 'Joyner Lucas & J. Cole', 'Shawn Mendes & Tainy', 'Luke Bryan', 'YoungBoy Never Broke Again', 'YoungBoy Never Broke Again', 'Meek Mill', 'BTS', 'Meek Mill Featuring Moneybagg Yo', 'Meek Mill', 'Meek Mill', 'Meek Mill Featuring Lil Uzi Vert', 'Meek Mill', 'Skylar Grey, Polo G, Mozzy & Eminem', 'TWICE', 'Meek Mill Featuring A$AP Ferg', 'Meek Mill', 'Lil Wayne Featuring Rich The Kid', 'Meek Mill Featuring Kehlani', 'Drake', 'Drake Featuring JAY-Z', 'YoungBoy Never Broke Again']\n"
          ]
        }
      ]
    },
    {
      "cell_type": "code",
      "source": [
        "print(len(song))"
      ],
      "metadata": {
        "id": "I2M8IzcZueVU",
        "colab": {
          "base_uri": "https://localhost:8080/"
        },
        "outputId": "72a9b0e3-1038-47c5-98e9-9ce7193f2208"
      },
      "execution_count": null,
      "outputs": [
        {
          "output_type": "stream",
          "name": "stdout",
          "text": [
            "756\n"
          ]
        }
      ]
    },
    {
      "cell_type": "markdown",
      "source": [
        "## **Create CSV file**"
      ],
      "metadata": {
        "id": "YIwGU774Ysc8"
      }
    },
    {
      "cell_type": "code",
      "source": [
        "# create CSV file\n",
        "import csv\n",
        "from itertools import zip_longest\n",
        "\n",
        "file_list = [song, artist]\n",
        "exported = zip_longest(*file_list)    #unpacking step \n",
        "\n",
        "\n",
        "with open('/content/billboard_data.csv', 'w') as myfile:\n",
        "  writer_object = csv.writer(myfile)\n",
        "  writer_object.writerow(['song', 'artist'])\n",
        "  writer_object.writerows(exported)\n"
      ],
      "metadata": {
        "id": "Z9Ob0EbvWGSm"
      },
      "execution_count": null,
      "outputs": []
    }
  ]
}