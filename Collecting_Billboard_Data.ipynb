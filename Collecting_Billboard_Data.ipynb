{
  "nbformat": 4,
  "nbformat_minor": 0,
  "metadata": {
    "colab": {
      "provenance": [],
      "authorship_tag": "ABX9TyMbokusEN1SYTQ3UMTnXLut",
      "include_colab_link": true
    },
    "kernelspec": {
      "name": "python3",
      "display_name": "Python 3"
    },
    "language_info": {
      "name": "python"
    }
  },
  "cells": [
    {
      "cell_type": "markdown",
      "metadata": {
        "id": "view-in-github",
        "colab_type": "text"
      },
      "source": [
        "<a href=\"https://colab.research.google.com/github/Nourhan-Adell/Data_Science_Projects/blob/main/Collecting_Billboard_Data.ipynb\" target=\"_parent\"><img src=\"https://colab.research.google.com/assets/colab-badge.svg\" alt=\"Open In Colab\"/></a>"
      ]
    },
    {
      "cell_type": "code",
      "execution_count": 1,
      "metadata": {
        "colab": {
          "base_uri": "https://localhost:8080/"
        },
        "id": "VuXVEwn-x3WT",
        "outputId": "7f933fe4-8062-4a7c-abc5-5d6b4c810f5f"
      },
      "outputs": [
        {
          "output_type": "stream",
          "name": "stdout",
          "text": [
            "Looking in indexes: https://pypi.org/simple, https://us-python.pkg.dev/colab-wheels/public/simple/\n",
            "Collecting billboard.py\n",
            "  Downloading billboard.py-7.0.0-py2.py3-none-any.whl (7.0 kB)\n",
            "Requirement already satisfied: beautifulsoup4>=4.4.1 in /usr/local/lib/python3.7/dist-packages (from billboard.py) (4.6.3)\n",
            "Requirement already satisfied: requests>=2.2.1 in /usr/local/lib/python3.7/dist-packages (from billboard.py) (2.23.0)\n",
            "Requirement already satisfied: idna<3,>=2.5 in /usr/local/lib/python3.7/dist-packages (from requests>=2.2.1->billboard.py) (2.10)\n",
            "Requirement already satisfied: chardet<4,>=3.0.2 in /usr/local/lib/python3.7/dist-packages (from requests>=2.2.1->billboard.py) (3.0.4)\n",
            "Requirement already satisfied: certifi>=2017.4.17 in /usr/local/lib/python3.7/dist-packages (from requests>=2.2.1->billboard.py) (2022.6.15)\n",
            "Requirement already satisfied: urllib3!=1.25.0,!=1.25.1,<1.26,>=1.21.1 in /usr/local/lib/python3.7/dist-packages (from requests>=2.2.1->billboard.py) (1.24.3)\n",
            "Installing collected packages: billboard.py\n",
            "Successfully installed billboard.py-7.0.0\n"
          ]
        }
      ],
      "source": [
        "pip install billboard.py"
      ]
    },
    {
      "cell_type": "code",
      "source": [
        "pip install datetime"
      ],
      "metadata": {
        "colab": {
          "base_uri": "https://localhost:8080/"
        },
        "id": "_odI8Ij6zm_Q",
        "outputId": "60bbd101-1dab-4286-8bd3-acc95d361950"
      },
      "execution_count": 10,
      "outputs": [
        {
          "output_type": "stream",
          "name": "stdout",
          "text": [
            "Looking in indexes: https://pypi.org/simple, https://us-python.pkg.dev/colab-wheels/public/simple/\n",
            "Collecting datetime\n",
            "  Downloading DateTime-4.7-py2.py3-none-any.whl (52 kB)\n",
            "\u001b[K     |████████████████████████████████| 52 kB 775 kB/s \n",
            "\u001b[?25hRequirement already satisfied: pytz in /usr/local/lib/python3.7/dist-packages (from datetime) (2022.2.1)\n",
            "Collecting zope.interface\n",
            "  Downloading zope.interface-5.4.0-cp37-cp37m-manylinux2010_x86_64.whl (251 kB)\n",
            "\u001b[K     |████████████████████████████████| 251 kB 10.3 MB/s \n",
            "\u001b[?25hRequirement already satisfied: setuptools in /usr/local/lib/python3.7/dist-packages (from zope.interface->datetime) (57.4.0)\n",
            "Installing collected packages: zope.interface, datetime\n",
            "Successfully installed datetime-4.7 zope.interface-5.4.0\n"
          ]
        }
      ]
    },
    {
      "cell_type": "code",
      "source": [
        "  # billboard to load data from Billboard.com\n",
        "import billboard\n",
        "  # pandas to convert data into DataFrame\n",
        "import pandas as pd "
      ],
      "metadata": {
        "id": "Fw3_0J-VyhC9"
      },
      "execution_count": 2,
      "outputs": []
    },
    {
      "cell_type": "markdown",
      "source": [
        "### Get top 10 artists from 2011 to 2022 \n",
        "Here we will get the first 10 artists for each year from 2011 till 2022\n",
        "- `artists:` top 10 artists in all years.\n",
        "- `year:` to use it when loading songs.\n",
        "- `cnt:` to stop itration when we get top 10 every year.\n",
        "- `chart:` data from Billboard which include artists names and title of songs "
      ],
      "metadata": {
        "id": "5VSZTod_yz4_"
      }
    },
    {
      "cell_type": "code",
      "source": [
        "from datetime import date\n",
        "from datetime import datetime\n",
        "\n",
        "artists = []      # to store artists name\n",
        "year = date.today().year    # year = 2022\n",
        "\n",
        "for y in range(2022-2011):  # y = 1 --> y= 11\n",
        "    chart = billboard.ChartData('Top-Artists', year=year-y)   # getting the chatr of top artist for each year\n",
        "    cnt = 0\n",
        "    for chr in chart:\n",
        "        cnt += 1\n",
        "        if chr.artist not in artists:\n",
        "                artists.append(chr.artist)    \n",
        "        if cnt == 10:\n",
        "            break\n",
        "    \n",
        "    year -= 1\n",
        "\n",
        "len(artists)\n",
        "print(year)\n"
      ],
      "metadata": {
        "colab": {
          "base_uri": "https://localhost:8080/"
        },
        "id": "OuGUT4gpyw6p",
        "outputId": "e1a21bbd-4139-4139-f3b2-a7dba1623755"
      },
      "execution_count": 11,
      "outputs": [
        {
          "output_type": "stream",
          "name": "stderr",
          "text": [
            "/usr/local/lib/python3.7/dist-packages/billboard.py:420: UnsupportedYearWarning: \n",
            "            2022 is not a supported year-end chart from Billboard.\n",
            "            Results may be incomplete, inconsistent, or missing entirely.\n",
            "            The min and max supported years for the 'Top-Artists' chart are 2006 and 2021, respectively.\n",
            "            \n",
            "  warnings.warn(UnsupportedYearWarning(msg))\n",
            "/usr/local/lib/python3.7/dist-packages/billboard.py:420: UnsupportedYearWarning: \n",
            "            2004 is not a supported year-end chart from Billboard.\n",
            "            Results may be incomplete, inconsistent, or missing entirely.\n",
            "            The min and max supported years for the 'Top-Artists' chart are 2006 and 2021, respectively.\n",
            "            \n",
            "  warnings.warn(UnsupportedYearWarning(msg))\n"
          ]
        },
        {
          "output_type": "stream",
          "name": "stdout",
          "text": [
            "2011\n"
          ]
        },
        {
          "output_type": "stream",
          "name": "stderr",
          "text": [
            "/usr/local/lib/python3.7/dist-packages/billboard.py:420: UnsupportedYearWarning: \n",
            "            2002 is not a supported year-end chart from Billboard.\n",
            "            Results may be incomplete, inconsistent, or missing entirely.\n",
            "            The min and max supported years for the 'Top-Artists' chart are 2006 and 2021, respectively.\n",
            "            \n",
            "  warnings.warn(UnsupportedYearWarning(msg))\n"
          ]
        }
      ]
    },
    {
      "cell_type": "code",
      "source": [
        "len(artists)"
      ],
      "metadata": {
        "colab": {
          "base_uri": "https://localhost:8080/"
        },
        "id": "yG8T3sqCy2JC",
        "outputId": "d283b74c-f1fe-4d57-ba4d-2d4e1b84d65a"
      },
      "execution_count": 4,
      "outputs": [
        {
          "output_type": "execute_result",
          "data": {
            "text/plain": [
              "58"
            ]
          },
          "metadata": {},
          "execution_count": 4
        }
      ]
    },
    {
      "cell_type": "markdown",
      "source": [
        "### Make a method to load data from Billboard\n",
        "<b>prameters: </b>\n",
        "- `type:` type of chart we get from Billboard.\n",
        "- `data:` list of dictionary we collect data into.\n",
        "- `artists:` list of artists names.\n",
        "- `titles:` list of songs name use it to avoid repeat songs.\n",
        "- `year:` use it when collect popular data.\n",
        "- `date:` use it when collect unpopular data.\n",
        "- `label:` 1 if popular and 0 if unpopular."
      ],
      "metadata": {
        "id": "hYmGDBtqzB_y"
      }
    },
    {
      "cell_type": "code",
      "source": [
        "def getData(type, data, artists, titles, year=None, date=None, label=None):\n",
        "    if date==None:\n",
        "        HotChart = billboard.ChartData(type, year=year)   # collect popular songs\n",
        "    else:\n",
        "        HotChart = billboard.ChartData(type, date=date)   # collect unpopular songs\n",
        "    for hot in HotChart:\n",
        "        # To collect the name of artists that exists in the artist's list and choose another song for the same artist.\n",
        "        # This is to avoid repeat songs and enter artist doesn't exist in artists list.\n",
        "        if hot.title not in titles and hot.artist in artists:\n",
        "                titles.append(hot.title)  \n",
        "                data.append({'Artist': hot.artist, 'Title': hot.title, 'Label': label})\n",
        "    \n",
        "    return data, titles"
      ],
      "metadata": {
        "id": "DSjmR-x4y_hJ"
      },
      "execution_count": 5,
      "outputs": []
    },
    {
      "cell_type": "markdown",
      "source": [
        "### Here we collect popular data from 2011 to 2022"
      ],
      "metadata": {
        "id": "4s96trsbzGqA"
      }
    },
    {
      "cell_type": "code",
      "source": [
        "data = []\n",
        "titles = []\n",
        "year = 2022\n",
        "for i in range(2023-2011):\n",
        "    data, titles = getData('Hot-100-Songs', data, artists, titles, year, label=1) # popular songs\n",
        "    year -= 1"
      ],
      "metadata": {
        "colab": {
          "base_uri": "https://localhost:8080/"
        },
        "id": "ZgBcWHMvzD40",
        "outputId": "1264b9e6-12d9-4aef-82ba-0257bfd72873"
      },
      "execution_count": 15,
      "outputs": [
        {
          "output_type": "stream",
          "name": "stderr",
          "text": [
            "/usr/local/lib/python3.7/dist-packages/billboard.py:420: UnsupportedYearWarning: \n",
            "            2022 is not a supported year-end chart from Billboard.\n",
            "            Results may be incomplete, inconsistent, or missing entirely.\n",
            "            The min and max supported years for the 'Hot-100-Songs' chart are 2006 and 2021, respectively.\n",
            "            \n",
            "  warnings.warn(UnsupportedYearWarning(msg))\n"
          ]
        }
      ]
    },
    {
      "cell_type": "code",
      "source": [
        "#Printing the list with popular data\n",
        "print('Popular data details:')\n",
        "print('Length of data collected: ',len(data))\n",
        "print('Length of popular artists collected: ', len(artists))\n",
        "print('Length of popular songs collected: ', len(titles))"
      ],
      "metadata": {
        "colab": {
          "base_uri": "https://localhost:8080/"
        },
        "id": "AtGbAN49zLhW",
        "outputId": "78093adc-3bad-4372-95db-5032041b3d99"
      },
      "execution_count": 16,
      "outputs": [
        {
          "output_type": "stream",
          "name": "stdout",
          "text": [
            "Popular data details:\n",
            "Length of data collected:  218\n",
            "Length of popular artists collected:  58\n",
            "Length of popular songs collected:  218\n"
          ]
        }
      ]
    },
    {
      "cell_type": "markdown",
      "source": [
        "### Here I collect unpopular data from 2011 to 2022 I use another songs that I don't use in popular data\n",
        "I split the year into 4 splits to get a lot of songs with the same artists which I choose and used the same techniques for every year."
      ],
      "metadata": {
        "id": "dbCMqwwLzSJH"
      }
    },
    {
      "cell_type": "code",
      "source": [
        "dates = [\n",
        "        '2022-08-01','2022-04-01','2022-01-01',\n",
        "        '2021-12-01','2021-08-01','2021-04-01','2021-01-01',\n",
        "        '2020-12-01','2020-08-01','2020-04-01','2020-01-01',\n",
        "        '2019-12-01','2019-08-01','2019-04-01','2019-01-01',\n",
        "        '2018-12-01','2018-08-01','2018-04-01','2018-01-01',\n",
        "        '2017-12-01','2017-08-01','2017-04-01','2017-01-01',\n",
        "        '2016-12-01','2016-08-01','2016-04-01','2016-01-01',\n",
        "        '2015-12-01','2015-08-01','2015-04-01','2015-01-01',\n",
        "        '2014-12-01','2014-08-01','2014-04-01','2014-01-01',\n",
        "        '2013-12-01','2013-08-01','2013-04-01','2013-01-01',\n",
        "        '2012-12-01','2012-08-01','2012-04-01','2012-01-01',\n",
        "        '2011-12-01','2011-08-01','2011-04-01','2011-01-01']\n",
        "for date in dates:\n",
        "    data, titles = getData('hot-100', data, artists, titles, date = date, label=0) # unpopular songs"
      ],
      "metadata": {
        "id": "O8lkz9WczPHM"
      },
      "execution_count": 17,
      "outputs": []
    },
    {
      "cell_type": "code",
      "source": [
        "# Adding the unpopular songs to the popular ones:\n",
        "print('Populat + Unpopular songs collected:')\n",
        "print('Length of all data collected: ',len(data))\n",
        "print('Length of all artists collected: ', len(artists))\n",
        "print('Length of all songs collected: ', len(titles))"
      ],
      "metadata": {
        "colab": {
          "base_uri": "https://localhost:8080/"
        },
        "id": "hu13f3ZMzUhH",
        "outputId": "39a1c7e9-2323-4daa-f3a4-493aecfc6c25"
      },
      "execution_count": 18,
      "outputs": [
        {
          "output_type": "stream",
          "name": "stdout",
          "text": [
            "Populat + Unpopular songs collected:\n",
            "Length of all data collected:  483\n",
            "Length of all artists collected:  58\n",
            "Length of all songs collected:  483\n"
          ]
        }
      ]
    },
    {
      "cell_type": "markdown",
      "source": [
        "### Convert data to dataframe by using pandas"
      ],
      "metadata": {
        "id": "PBhoo6m-3goj"
      }
    },
    {
      "cell_type": "code",
      "source": [
        "df = pd.DataFrame(data)\n",
        "df"
      ],
      "metadata": {
        "colab": {
          "base_uri": "https://localhost:8080/",
          "height": 424
        },
        "id": "jFd59sC9zV7-",
        "outputId": "4bfc5d58-53d9-46b3-afe4-dd450b3a63c8"
      },
      "execution_count": 19,
      "outputs": [
        {
          "output_type": "execute_result",
          "data": {
            "text/plain": [
              "             Artist             Title  Label\n",
              "0        The Weeknd   Blinding Lights      1\n",
              "1    Olivia Rodrigo          Good 4 U      1\n",
              "2    Olivia Rodrigo   Drivers License      1\n",
              "3               BTS            Butter      1\n",
              "4    Olivia Rodrigo           Deja Vu      1\n",
              "..              ...               ...    ...\n",
              "478     Chris Brown             No BS      0\n",
              "479     Nicki Minaj     Right Thru Me      0\n",
              "480    Taylor Swift              Mine      0\n",
              "481   Rascal Flatts          Why Wait      0\n",
              "482        Coldplay  Christmas Lights      0\n",
              "\n",
              "[483 rows x 3 columns]"
            ],
            "text/html": [
              "\n",
              "  <div id=\"df-00187dba-6378-48fe-b1ae-0a0485702de2\">\n",
              "    <div class=\"colab-df-container\">\n",
              "      <div>\n",
              "<style scoped>\n",
              "    .dataframe tbody tr th:only-of-type {\n",
              "        vertical-align: middle;\n",
              "    }\n",
              "\n",
              "    .dataframe tbody tr th {\n",
              "        vertical-align: top;\n",
              "    }\n",
              "\n",
              "    .dataframe thead th {\n",
              "        text-align: right;\n",
              "    }\n",
              "</style>\n",
              "<table border=\"1\" class=\"dataframe\">\n",
              "  <thead>\n",
              "    <tr style=\"text-align: right;\">\n",
              "      <th></th>\n",
              "      <th>Artist</th>\n",
              "      <th>Title</th>\n",
              "      <th>Label</th>\n",
              "    </tr>\n",
              "  </thead>\n",
              "  <tbody>\n",
              "    <tr>\n",
              "      <th>0</th>\n",
              "      <td>The Weeknd</td>\n",
              "      <td>Blinding Lights</td>\n",
              "      <td>1</td>\n",
              "    </tr>\n",
              "    <tr>\n",
              "      <th>1</th>\n",
              "      <td>Olivia Rodrigo</td>\n",
              "      <td>Good 4 U</td>\n",
              "      <td>1</td>\n",
              "    </tr>\n",
              "    <tr>\n",
              "      <th>2</th>\n",
              "      <td>Olivia Rodrigo</td>\n",
              "      <td>Drivers License</td>\n",
              "      <td>1</td>\n",
              "    </tr>\n",
              "    <tr>\n",
              "      <th>3</th>\n",
              "      <td>BTS</td>\n",
              "      <td>Butter</td>\n",
              "      <td>1</td>\n",
              "    </tr>\n",
              "    <tr>\n",
              "      <th>4</th>\n",
              "      <td>Olivia Rodrigo</td>\n",
              "      <td>Deja Vu</td>\n",
              "      <td>1</td>\n",
              "    </tr>\n",
              "    <tr>\n",
              "      <th>...</th>\n",
              "      <td>...</td>\n",
              "      <td>...</td>\n",
              "      <td>...</td>\n",
              "    </tr>\n",
              "    <tr>\n",
              "      <th>478</th>\n",
              "      <td>Chris Brown</td>\n",
              "      <td>No BS</td>\n",
              "      <td>0</td>\n",
              "    </tr>\n",
              "    <tr>\n",
              "      <th>479</th>\n",
              "      <td>Nicki Minaj</td>\n",
              "      <td>Right Thru Me</td>\n",
              "      <td>0</td>\n",
              "    </tr>\n",
              "    <tr>\n",
              "      <th>480</th>\n",
              "      <td>Taylor Swift</td>\n",
              "      <td>Mine</td>\n",
              "      <td>0</td>\n",
              "    </tr>\n",
              "    <tr>\n",
              "      <th>481</th>\n",
              "      <td>Rascal Flatts</td>\n",
              "      <td>Why Wait</td>\n",
              "      <td>0</td>\n",
              "    </tr>\n",
              "    <tr>\n",
              "      <th>482</th>\n",
              "      <td>Coldplay</td>\n",
              "      <td>Christmas Lights</td>\n",
              "      <td>0</td>\n",
              "    </tr>\n",
              "  </tbody>\n",
              "</table>\n",
              "<p>483 rows × 3 columns</p>\n",
              "</div>\n",
              "      <button class=\"colab-df-convert\" onclick=\"convertToInteractive('df-00187dba-6378-48fe-b1ae-0a0485702de2')\"\n",
              "              title=\"Convert this dataframe to an interactive table.\"\n",
              "              style=\"display:none;\">\n",
              "        \n",
              "  <svg xmlns=\"http://www.w3.org/2000/svg\" height=\"24px\"viewBox=\"0 0 24 24\"\n",
              "       width=\"24px\">\n",
              "    <path d=\"M0 0h24v24H0V0z\" fill=\"none\"/>\n",
              "    <path d=\"M18.56 5.44l.94 2.06.94-2.06 2.06-.94-2.06-.94-.94-2.06-.94 2.06-2.06.94zm-11 1L8.5 8.5l.94-2.06 2.06-.94-2.06-.94L8.5 2.5l-.94 2.06-2.06.94zm10 10l.94 2.06.94-2.06 2.06-.94-2.06-.94-.94-2.06-.94 2.06-2.06.94z\"/><path d=\"M17.41 7.96l-1.37-1.37c-.4-.4-.92-.59-1.43-.59-.52 0-1.04.2-1.43.59L10.3 9.45l-7.72 7.72c-.78.78-.78 2.05 0 2.83L4 21.41c.39.39.9.59 1.41.59.51 0 1.02-.2 1.41-.59l7.78-7.78 2.81-2.81c.8-.78.8-2.07 0-2.86zM5.41 20L4 18.59l7.72-7.72 1.47 1.35L5.41 20z\"/>\n",
              "  </svg>\n",
              "      </button>\n",
              "      \n",
              "  <style>\n",
              "    .colab-df-container {\n",
              "      display:flex;\n",
              "      flex-wrap:wrap;\n",
              "      gap: 12px;\n",
              "    }\n",
              "\n",
              "    .colab-df-convert {\n",
              "      background-color: #E8F0FE;\n",
              "      border: none;\n",
              "      border-radius: 50%;\n",
              "      cursor: pointer;\n",
              "      display: none;\n",
              "      fill: #1967D2;\n",
              "      height: 32px;\n",
              "      padding: 0 0 0 0;\n",
              "      width: 32px;\n",
              "    }\n",
              "\n",
              "    .colab-df-convert:hover {\n",
              "      background-color: #E2EBFA;\n",
              "      box-shadow: 0px 1px 2px rgba(60, 64, 67, 0.3), 0px 1px 3px 1px rgba(60, 64, 67, 0.15);\n",
              "      fill: #174EA6;\n",
              "    }\n",
              "\n",
              "    [theme=dark] .colab-df-convert {\n",
              "      background-color: #3B4455;\n",
              "      fill: #D2E3FC;\n",
              "    }\n",
              "\n",
              "    [theme=dark] .colab-df-convert:hover {\n",
              "      background-color: #434B5C;\n",
              "      box-shadow: 0px 1px 3px 1px rgba(0, 0, 0, 0.15);\n",
              "      filter: drop-shadow(0px 1px 2px rgba(0, 0, 0, 0.3));\n",
              "      fill: #FFFFFF;\n",
              "    }\n",
              "  </style>\n",
              "\n",
              "      <script>\n",
              "        const buttonEl =\n",
              "          document.querySelector('#df-00187dba-6378-48fe-b1ae-0a0485702de2 button.colab-df-convert');\n",
              "        buttonEl.style.display =\n",
              "          google.colab.kernel.accessAllowed ? 'block' : 'none';\n",
              "\n",
              "        async function convertToInteractive(key) {\n",
              "          const element = document.querySelector('#df-00187dba-6378-48fe-b1ae-0a0485702de2');\n",
              "          const dataTable =\n",
              "            await google.colab.kernel.invokeFunction('convertToInteractive',\n",
              "                                                     [key], {});\n",
              "          if (!dataTable) return;\n",
              "\n",
              "          const docLinkHtml = 'Like what you see? Visit the ' +\n",
              "            '<a target=\"_blank\" href=https://colab.research.google.com/notebooks/data_table.ipynb>data table notebook</a>'\n",
              "            + ' to learn more about interactive tables.';\n",
              "          element.innerHTML = '';\n",
              "          dataTable['output_type'] = 'display_data';\n",
              "          await google.colab.output.renderOutput(dataTable, element);\n",
              "          const docLink = document.createElement('div');\n",
              "          docLink.innerHTML = docLinkHtml;\n",
              "          element.appendChild(docLink);\n",
              "        }\n",
              "      </script>\n",
              "    </div>\n",
              "  </div>\n",
              "  "
            ]
          },
          "metadata": {},
          "execution_count": 19
        }
      ]
    },
    {
      "cell_type": "code",
      "source": [
        "df.shape"
      ],
      "metadata": {
        "colab": {
          "base_uri": "https://localhost:8080/"
        },
        "id": "2eTvhh3l3iuj",
        "outputId": "6f2a7789-a823-4737-d77e-417f485fa5fb"
      },
      "execution_count": 20,
      "outputs": [
        {
          "output_type": "execute_result",
          "data": {
            "text/plain": [
              "(483, 3)"
            ]
          },
          "metadata": {},
          "execution_count": 20
        }
      ]
    },
    {
      "cell_type": "markdown",
      "source": [
        "### Save data as csv file"
      ],
      "metadata": {
        "id": "XmLpyhUp3rXl"
      }
    },
    {
      "cell_type": "code",
      "source": [
        "df.to_csv('Billboard.csv', index=False)"
      ],
      "metadata": {
        "id": "PK9LPMSi3pFq"
      },
      "execution_count": 21,
      "outputs": []
    }
  ]
}